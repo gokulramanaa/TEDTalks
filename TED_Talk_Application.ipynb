{
 "cells": [
  {
   "cell_type": "markdown",
   "metadata": {},
   "source": [
    "# ~TED TALK SHARES PREDICTION~\n",
    "\n",
    "TED \n",
    " 1. Exploraty analysis  \n",
    "         kdjflkdjlf \n",
    " 2. Linear regression \n",
    "     lkjdf \n",
    " 3. Neurual \n",
    "     lkdkjfldjf\n",
    "."
   ]
  },
  {
   "cell_type": "code",
   "execution_count": 2,
   "metadata": {
    "collapsed": true
   },
   "outputs": [],
   "source": [
    "%matplotlib inline\n",
    "import pandas as pd\n",
    "import numpy as np\n",
    "from scipy import stats\n",
    "import matplotlib.pyplot as plt\n",
    "import json\n",
    "from pandas.io.json import json_normalize\n",
    "import textblob\n",
    "from textblob import TextBlob\n",
    "from collections import Counter\n",
    "import datetime\n",
    "import re\n",
    "import nltk\n",
    "import operator\n",
    "from sklearn import linear_model\n",
    "from sklearn.metrics import mean_squared_error, r2_score\n",
    "from sklearn.metrics import accuracy_score\n",
    "from sklearn import metrics\n",
    "from sklearn.model_selection import train_test_split\n",
    "import time\n",
    "import h5py\n",
    "import scipy\n",
    "from PIL import Image\n",
    "from scipy import ndimage\n",
    "\n",
    "df = pd.read_csv('./ted_main.csv')\n",
    "df3 = pd.read_csv(\"./transcripts.csv\")"
   ]
  },
  {
   "cell_type": "markdown",
   "metadata": {},
   "source": [
    "# Feature Extraction\n",
    "\n",
    "## Date Convertion\n",
    "\n",
    "<img src=\"date.png\" title=\"Title text\" />"
   ]
  },
  {
   "cell_type": "code",
   "execution_count": 22,
   "metadata": {
    "collapsed": true
   },
   "outputs": [],
   "source": [
    "df['film_date'] = df['film_date'].apply(lambda x: datetime.datetime.fromtimestamp( int(x)).strftime('%d-%m-%Y'))\n",
    "df['published_date'] = df['published_date'].apply(lambda x: datetime.datetime.fromtimestamp( int(x)).strftime('%d-%m-%Y'))\n",
    "\n",
    "df['published_date'] = pd.to_datetime(df['published_date'])\n",
    "df['film_date'] = pd.to_datetime(df['film_date'])\n",
    "\n",
    "temp = datetime.date(2018,1,1)\n",
    "temp = pd.to_datetime(temp)\n",
    "df['published_date'] = temp - df['published_date']\n",
    "df['film_date'] = temp - df['film_date']\n",
    "\n",
    "df['published_date'] = df['published_date'].dt.days\n",
    "df['film_date'] = df['film_date'].dt.days"
   ]
  },
  {
   "cell_type": "markdown",
   "metadata": {},
   "source": [
    "## Top 35 Tags extraction\n",
    "\n",
    "<img src=\"tags.png\" title=\"Title text\" />"
   ]
  },
  {
   "cell_type": "code",
   "execution_count": 23,
   "metadata": {},
   "outputs": [
    {
     "name": "stdout",
     "output_type": "stream",
     "text": [
      "(2550, 52)\n"
     ]
    }
   ],
   "source": [
    "df2 = df['tags']\n",
    "temp = {}\n",
    "for each in df2.values:\n",
    "    list = each.split()\n",
    "    for every in list:\n",
    "        test = re.sub('[^A-Za-z0-9]+', ' ', every)\n",
    "        test = test.lower()\n",
    "        if test in temp.keys():\n",
    "            temp[test] +=  1\n",
    "        else:\n",
    "            temp[test]= 1\n",
    "            \n",
    "new = pd.DataFrame.from_dict(temp, orient=\"index\")\n",
    "#print(new.sort_values(by = 0, ascending=False).head(15))\n",
    "topTags = new.sort_values(by = 0, ascending=False).head(35).index\n",
    "newtopTags = []\n",
    "for i in topTags:\n",
    "    newtopTags.append(i.strip())\n",
    "#print(newtopTags)\n",
    "xx = pd.DataFrame(0, index=np.arange(len(df)), columns=newtopTags)\n",
    "#print(xx.shape)\n",
    "for i in range(len(df)):\n",
    "    for j in topTags:\n",
    "        j = str(j).strip()\n",
    "        if str(j) in str(df['tags'][i]).lower():\n",
    "            xx[str(j)][i] = 1\n",
    "frames = [df, xx]\n",
    "result = pd.concat(frames, axis=1)\n",
    "print(result.shape)"
   ]
  },
  {
   "cell_type": "markdown",
   "metadata": {},
   "source": [
    "## Sentiment Polarity Extraction - NLP\n",
    "\n",
    "<img src=\"transcript.png\"  title=\"Title text\" />"
   ]
  },
  {
   "cell_type": "code",
   "execution_count": 28,
   "metadata": {},
   "outputs": [
    {
     "name": "stdout",
     "output_type": "stream",
     "text": [
      "(2467, 55)\n"
     ]
    }
   ],
   "source": [
    "polarity = []\n",
    "subj = []\n",
    "for t in df3['transcript']:\n",
    "    tx = TextBlob(t)\n",
    "    polarity.append(tx.sentiment.polarity)\n",
    "    subj.append(tx.sentiment.subjectivity)\n",
    "df3['polarity'] = polarity\n",
    "df3['subjectivity'] = subj\n",
    "result = result.merge(df3,on = 'url', how='inner')\n",
    "print(result.shape)"
   ]
  },
  {
   "cell_type": "markdown",
   "metadata": {},
   "source": [
    "## Ratings Feature Extraction\n",
    "\n",
    "<img src=\"rating.png\" title=\"Title text\" />"
   ]
  },
  {
   "cell_type": "code",
   "execution_count": 35,
   "metadata": {},
   "outputs": [
    {
     "name": "stdout",
     "output_type": "stream",
     "text": [
      "(2467, 69)\n"
     ]
    }
   ],
   "source": [
    "result['ratings'] = result['ratings'].apply(lambda x: eval(str(x)))\n",
    "json_data = result['ratings'] # your list with json objects (dicts)\n",
    "newRatings = ['Funny','Beautiful','Ingenious','Courageous','Longwinded','Confusing','Informative','Fascinating','Unconvincing','Persuasive','Jaw-dropping','OK','Obnoxious','Inspiring']\n",
    "yy = pd.DataFrame(0, index=np.arange(len(result)), columns=newRatings)\n",
    "ind = 0\n",
    "for i in json_data:\n",
    "    for j in i:\n",
    "        temp = j['name']\n",
    "        yy[temp][ind] = j['count']\n",
    "    ind +=1\n",
    "\n",
    "#print(result.shape)\n",
    "#print(yy.shape)\n",
    "frame1 = [result, yy]\n",
    "result = pd.concat(frame1, axis=1)\n",
    "print(result.shape)"
   ]
  },
  {
   "cell_type": "markdown",
   "metadata": {},
   "source": [
    "## Description & Title Sujectivity Feature Extraction\n",
    "\n",
    "<img src=\"title.png\" title=\"Title text\" />"
   ]
  },
  {
   "cell_type": "code",
   "execution_count": 38,
   "metadata": {},
   "outputs": [
    {
     "name": "stdout",
     "output_type": "stream",
     "text": [
      "(2467, 71)\n",
      "(2467, 73)\n"
     ]
    }
   ],
   "source": [
    "tem1 = []\n",
    "tem2 = []\n",
    "tem3 = result['description']\n",
    "#print(type(tem3))\n",
    "for i in tem3:\n",
    "    tem = TextBlob(i)\n",
    "    tem1.append(tem.sentiment.subjectivity) \n",
    "    tem2.append(tem.sentiment.polarity)\n",
    "    \n",
    "result['des_subj'] = tem1\n",
    "result['des_sent'] = tem2\n",
    "result.columns\n",
    "print(result.shape)\n",
    "\n",
    "tem1 = []\n",
    "tem2 = []\n",
    "tem3 = result['title']\n",
    "#print(type(tem3))\n",
    "for i in tem3:\n",
    "    tem = TextBlob(i)\n",
    "    tem1.append(tem.sentiment.subjectivity) \n",
    "    tem2.append(tem.sentiment.polarity)\n",
    "    \n",
    "result['tit_subj'] = tem1\n",
    "result['tit_sent'] = tem2\n",
    "result.columns\n",
    "print(result.shape)"
   ]
  },
  {
   "cell_type": "markdown",
   "metadata": {},
   "source": [
    "## Speaker Occupcation Feature Extraction\n",
    "\n",
    "<img src=\"speak.png\" title=\"Title text\" />"
   ]
  },
  {
   "cell_type": "code",
   "execution_count": 42,
   "metadata": {},
   "outputs": [
    {
     "name": "stdout",
     "output_type": "stream",
     "text": [
      "(2467, 83)\n"
     ]
    }
   ],
   "source": [
    "li = result['speaker_occupation']\n",
    "lli=[]\n",
    "lis = []\n",
    "for i in li:\n",
    "    if type(i) == str:\n",
    "        k = i.lower().replace('/',',').replace(';',',').split(',')\n",
    "        lis.append(k)\n",
    "        for j in k:\n",
    "            lli.append(j.strip().lower())\n",
    "    else:\n",
    "        lis.append([])\n",
    "        pass\n",
    "lid = Counter(lli)\n",
    "\n",
    "authdf = pd.DataFrame.from_dict(lid, orient=\"index\").sort_values(by=0, ascending=False).head(10).index\n",
    "newauth = pd.DataFrame(0, index=np.arange(len(result)), columns=authdf)\n",
    "for i in range(len(result)):\n",
    "    for j in authdf:\n",
    "        if str(j) in lis[i]:\n",
    "            newauth[str(j)][i] = 1\n",
    "        \n",
    "frames3 = [result, newauth]\n",
    "result = pd.concat(frames3, axis=1)\n",
    "print(result.shape)"
   ]
  },
  {
   "cell_type": "code",
   "execution_count": 8,
   "metadata": {},
   "outputs": [
    {
     "name": "stdout",
     "output_type": "stream",
     "text": [
      "Index(['index', 'comments', 'duration', 'film_date', 'languages',\n",
      "       'num_speaker', 'published_date', 'views', 'technology', 'science',\n",
      "       'global', 'issues', 'culture', 'tedx', 'design', 'business', 'change',\n",
      "       'entertainment', 'social', 'ted', 'health', 'innovation', 'society',\n",
      "       'art', 'future', 'communication', 'biology', 'creativity', 'humanity',\n",
      "       'collaboration', 'environment', 'economics', 'medicine', 'brain',\n",
      "       'activism', 'education', 'community', 'history', 'fellows', 'children',\n",
      "       'music', 'invention', 'care', 'polarity', 'subjectivity', 'Funny',\n",
      "       'Beautiful', 'Ingenious', 'Courageous', 'Longwinded', 'Confusing',\n",
      "       'Informative', 'Fascinating', 'Unconvincing', 'Persuasive',\n",
      "       'Jaw-dropping', 'OK', 'Obnoxious', 'Inspiring', 'des_subj', 'des_sent',\n",
      "       'tit_subj', 'tit_sent', 'writer', 'author', 'designer', 'artist',\n",
      "       'entrepreneur', 'inventor', 'activist', 'journalist', 'educator',\n",
      "       'psychologist'],\n",
      "      dtype='object')\n"
     ]
    }
   ],
   "source": [
    "xyz = result.describe().reset_index()\n",
    "print(xyz.columns)"
   ]
  },
  {
   "cell_type": "code",
   "execution_count": 51,
   "metadata": {
    "scrolled": true
   },
   "outputs": [
    {
     "data": {
      "text/plain": [
       "(array([  2.35900000e+03,   7.30000000e+01,   1.40000000e+01,\n",
       "          1.10000000e+01,   6.00000000e+00,   0.00000000e+00,\n",
       "          1.00000000e+00,   1.00000000e+00,   0.00000000e+00,\n",
       "          2.00000000e+00]),\n",
       " array([   155895. ,   4863016.5,   9570138. ,  14277259.5,  18984381. ,\n",
       "         23691502.5,  28398624. ,  33105745.5,  37812867. ,  42519988.5,\n",
       "         47227110. ]),\n",
       " <a list of 10 Patch objects>)"
      ]
     },
     "execution_count": 51,
     "metadata": {},
     "output_type": "execute_result"
    },
    {
     "data": {
      "image/png": "[encoded data removed]",
      "text/plain": [
       "<matplotlib.figure.Figure at 0x26b190a6080>"
      ]
     },
     "metadata": {},
     "output_type": "display_data"
    }
   ],
   "source": [
    "plt.hist((result['views']))"
   ]
  },
  {
   "cell_type": "code",
   "execution_count": 49,
   "metadata": {
    "scrolled": false
   },
   "outputs": [
    {
     "data": {
      "text/plain": [
       "(array([  26.,  180.,  532.,  959.,  475.,  185.,   64.,   28.,   14.,    4.]),\n",
       " array([ 5.19283219,  5.4409681 ,  5.68910402,  5.93723994,  6.18537586,\n",
       "         6.43351178,  6.6816477 ,  6.92978362,  7.17791953,  7.42605545,\n",
       "         7.67419137]),\n",
       " <a list of 10 Patch objects>)"
      ]
     },
     "execution_count": 49,
     "metadata": {},
     "output_type": "execute_result"
    },
    {
     "data": {
      "image/png": "[encoded data removed]",
      "text/plain": [
       "<matplotlib.figure.Figure at 0x26b18ec2438>"
      ]
     },
     "metadata": {},
     "output_type": "display_data"
    }
   ],
   "source": [
    "plt.hist(np.log10(result['views']))"
   ]
  },
  {
   "cell_type": "markdown",
   "metadata": {},
   "source": [
    "# Regression Model Implementation"
   ]
  },
  {
   "cell_type": "code",
   "execution_count": 96,
   "metadata": {
    "collapsed": true
   },
   "outputs": [],
   "source": [
    "X_temp = result[[ 'comments', 'duration', 'film_date', 'languages',\n",
    "       'num_speaker', 'published_date', 'views', 'technology', 'science',\n",
    "       'global', 'issues', 'culture', 'tedx', 'design', 'business', 'change',\n",
    "       'entertainment', 'social', 'ted', 'health', 'innovation', 'society',\n",
    "       'art', 'future', 'communication', 'biology', 'creativity', 'humanity',\n",
    "       'collaboration', 'environment', 'economics', 'medicine', 'brain',\n",
    "       'activism', 'education', 'community', 'history', 'fellows', 'children',\n",
    "       'music', 'invention', 'care', 'polarity', 'subjectivity', 'des_subj', 'des_sent',\n",
    "       'tit_subj', 'tit_sent', 'writer', 'author', 'designer', 'artist',\n",
    "       'entrepreneur', 'inventor', 'activist', 'journalist', 'educator',\n",
    "       'psychologist']]\n",
    "y = np.log10(result['views'])\n",
    "\n",
    "mu = X_temp.mean(axis=0)\n",
    "stdv = X_temp.std(axis = 0)\n",
    "X = (X_temp - mu)/stdv\n",
    "#X['views'] = y"
   ]
  },
  {
   "cell_type": "markdown",
   "metadata": {},
   "source": [
    "## Regression Result on Training Set:"
   ]
  },
  {
   "cell_type": "code",
   "execution_count": 101,
   "metadata": {
    "scrolled": true
   },
   "outputs": [
    {
     "name": "stdout",
     "output_type": "stream",
     "text": [
      "Training Data Summary\n",
      "=======================\n",
      "Linear Regression Score on Training Data: 71.73723908183266% \n",
      "\n",
      "Ridge Regression Scores on Training:\n",
      "====================================\n",
      "Score with Alpha 0 is 71.73723908183266%\n",
      "Score with Alpha 0.1 is 71.17890503354356%\n",
      "Score with Alpha 0.5 is 66.16914668395114%\n",
      "Score with Alpha 5 is 31.432496013009036%\n"
     ]
    }
   ],
   "source": [
    "print(\"Training Data Summary\")\n",
    "print(\"=======================\")\n",
    "X_train, X_test, y_train, y_test = train_test_split(X, y, test_size=0.10, random_state=324)\n",
    "Lreg = linear_model.LinearRegression(normalize=True)\n",
    "Lreg.fit(X_train, y_train)\n",
    "predicted = Lreg.predict(X_train)\n",
    "temp1 = Lreg.score(X_train,y_train)\n",
    "print(\"Linear Regression Score on Training Data: {}% \\n\".format(temp1*100))\n",
    "\n",
    "print(\"Ridge Regression Scores on Training:\")\n",
    "print(\"====================================\")\n",
    "li = [0,0.1,0.5,5]\n",
    "regli = []\n",
    "for i in li:\n",
    "    Rreg = linear_model.Ridge(normalize = True, alpha = i)\n",
    "    Rreg.fit(X_train, y_train)\n",
    "    regli.append(Rreg)\n",
    "    predicted1 = Lreg.predict(X_train)\n",
    "    temp2 = Rreg.score(X_train,y_train)\n",
    "    print(\"Score with Alpha {} is {}%\".format(i,temp2*100))\n",
    "    #print(temp2*100)\n"
   ]
  },
  {
   "cell_type": "markdown",
   "metadata": {},
   "source": [
    "## Regression Result on Testing Set:"
   ]
  },
  {
   "cell_type": "code",
   "execution_count": 102,
   "metadata": {},
   "outputs": [
    {
     "name": "stdout",
     "output_type": "stream",
     "text": [
      "Testing Data Summary\n",
      "====================\n",
      "Linear Regression Score on testing Data is 69.27500503091655% \n",
      "\n",
      "Ridge Regression Scores on Testing:\n",
      "===================================\n",
      "Score with Alpha 0 is 69.27500503091655%\n",
      "Score with Alpha 0.1 is 68.96255931822965%\n",
      "Score with Alpha 0.5 is 64.94461970294189%\n",
      "Score with Alpha 5 is 30.84202870867153%\n"
     ]
    }
   ],
   "source": [
    "print(\"Testing Data Summary\")\n",
    "print(\"====================\")\n",
    "predicted2 = Lreg.predict(X_test)\n",
    "temp4 = Lreg.score(X_test,y_test)\n",
    "print(\"Linear Regression Score on testing Data is {}% \\n\".format(temp4*100))\n",
    "#print(metrics.r2_score(predicted1, y_test)*100)\n",
    "\n",
    "print(\"Ridge Regression Scores on Testing:\")\n",
    "print(\"===================================\")\n",
    "for j in range(4):\n",
    "    predicted2 = regli[j].predict(X_test)\n",
    "    temp3 = regli[j].score(X_test,y_test)\n",
    "    print(\"Score with Alpha {} is {}%\".format(li[j],temp3*100))"
   ]
  },
  {
   "cell_type": "code",
   "execution_count": 55,
   "metadata": {
    "collapsed": true
   },
   "outputs": [],
   "source": [
    "### Writing to csv file for Neural Network\n",
    "\n",
    "X.to_csv(\"./new1.csv\")\n",
    "y.to_csv(\"./new2.csv\")"
   ]
  },
  {
   "cell_type": "markdown",
   "metadata": {},
   "source": [
    "# Deep Neural Network for Regression\n",
    "\n",
    "## 3 layers with (100,50,1) hidden units are designed with following options\n",
    "\n",
    "  **1 ** ) **Hyper Paremters Initialization**\n",
    "                 - HE Initialization\n",
    "  **2 ** ) **Forward Propogation**\n",
    "                 - L layers use Relu activation function\n",
    "  **3 ** ) **Regulariztion**\n",
    "                 - lambda with L2 regularization\n",
    "  **4 ** )  **Cost**\n",
    "                 - MSE\n",
    "  **5 ** ) **Optimization**\n",
    "                 - Gradient Descent Algorithm\n",
    "                 \n",
    "### Algorithm Steps:\n",
    "                 \n",
    "##### Forward propogration ---> calculate cost ---> Backward Propogation ---> Gradient Derivative --> Update Prameter for n iterations\n",
    "."
   ]
  },
  {
   "cell_type": "code",
   "execution_count": 3,
   "metadata": {},
   "outputs": [
    {
     "name": "stdout",
     "output_type": "stream",
     "text": [
      "(2220, 1)\n",
      "(58, 2220)\n"
     ]
    }
   ],
   "source": [
    "Xpd = pd.read_table(\"./new1.csv\", index_col=0, sep=',')\n",
    "ypd = pd.read_table(\"./new2.csv\", index_col=0, sep=',', header=None)\n",
    "X_el = np.matrix(Xpd)\n",
    "Y_el = np.matrix(ypd)\n",
    "X, X_test, Y, y_test = train_test_split(X_el, Y_el, test_size=0.10, random_state=324)\n",
    "X = X.T\n",
    "print(Y.shape) #(m,1)\n",
    "print(X.shape) #(n,m)"
   ]
  },
  {
   "cell_type": "markdown",
   "metadata": {},
   "source": [
    "# Hyper Parameter (W, b) Initialization\n",
    "\n",
    "**HE Initiallization ** : This function is similar to the previous `initialize_parameters_random(...)`. The only difference is that instead of multiplying `np.random.randn(..,..)` by 10, you will multiply it by $\\sqrt{\\frac{2}{\\text{dimension of the previous layer}}}$, which is what He initialization recommends for layers with a ReLU activation. "
   ]
  },
  {
   "cell_type": "code",
   "execution_count": 4,
   "metadata": {
    "collapsed": true
   },
   "outputs": [],
   "source": [
    "def initialize_parameters_deep(layers_dims,initialization=\"he\"):\n",
    "\n",
    "    np.random.seed(3)\n",
    "    parameters = {}\n",
    "    L = len(layers_dims)            # number of layers in the network\n",
    "    \n",
    "\n",
    "    for l in range(1, L):\n",
    "        \n",
    "        if initialization == \"zeros\":\n",
    "            parameters['W' + str(l)] = np.zeros((layers_dims[l], layers_dims[l-1]))\n",
    "            parameters['b' + str(l)] = np.zeros((layers_dims[l],1))\n",
    "        elif initialization == \"random\":\n",
    "            parameters['W' + str(l)] = np.random.randn(layers_dims[l],layers_dims[l-1]) * 0.01\n",
    "            parameters['b' + str(l)] = np.zeros((layers_dims[l],1))\n",
    "        elif initialization == \"he\":\n",
    "            parameters['W' + str(l)] = np.random.randn(layers_dims[l],layers_dims[l-1]) * np.sqrt(2/layers_dims[l-1])\n",
    "            parameters['b' + str(l)] = np.zeros((layers_dims[l],1))\n",
    "        \n",
    "        assert(parameters['W' + str(l)].shape == (layers_dims[l], layers_dims[l-1]))\n",
    "        assert(parameters['b' + str(l)].shape == (layers_dims[l], 1))\n",
    "\n",
    "        \n",
    "    return parameters"
   ]
  },
  {
   "cell_type": "markdown",
   "metadata": {
    "collapsed": true
   },
   "source": [
    "# Foward Propogation\n",
    "\n",
    "."
   ]
  },
  {
   "cell_type": "code",
   "execution_count": 5,
   "metadata": {
    "collapsed": true
   },
   "outputs": [],
   "source": [
    "def sigmoid(z):\n",
    "\n",
    "    s = 1/(1+np.exp(-z))\n",
    "    return s,z\n",
    "\n",
    "def relu(z):\n",
    "    s = (abs(z) + z) / 2\n",
    "    return s,z"
   ]
  },
  {
   "cell_type": "code",
   "execution_count": 6,
   "metadata": {
    "collapsed": true
   },
   "outputs": [],
   "source": [
    "def linear_forward(A, W, b):\n",
    "\n",
    "    Z = np.dot(W,A) + b\n",
    "    assert(Z.shape == (W.shape[0], A.shape[1]))\n",
    "    cache = (A, W, b)\n",
    "    \n",
    "    return Z, cache"
   ]
  },
  {
   "cell_type": "code",
   "execution_count": 7,
   "metadata": {
    "collapsed": true
   },
   "outputs": [],
   "source": [
    "def linear_activation_forward(A_prev, W, b, activation):\n",
    "\n",
    "    if activation == \"sigmoid\":\n",
    "        # Inputs: \"A_prev, W, b\". Outputs: \"A, activation_cache\".\n",
    "        Z, linear_cache = linear_forward(A_prev,W,b)\n",
    "        #Z = np.dot(W,A_prev) + b\n",
    "        A, activation_cache = sigmoid(Z)\n",
    "        #print(\"sigmoid\")\n",
    "    \n",
    "    elif activation == \"relu\":\n",
    "        # Inputs: \"A_prev, W, b\". Outputs: \"A, activation_cache\".\n",
    "        Z, linear_cache = linear_forward(A_prev,W,b)\n",
    "        #Z = np.dot(W,A_prev) + b\n",
    "        A, activation_cache = relu(Z)\n",
    "        #print(\"relu\")\n",
    "    \n",
    "    assert (A.shape == (W.shape[0], A_prev.shape[1]))\n",
    "    cache = (linear_cache, activation_cache)\n",
    "\n",
    "    return A, cache"
   ]
  },
  {
   "cell_type": "code",
   "execution_count": 8,
   "metadata": {
    "collapsed": true
   },
   "outputs": [],
   "source": [
    "def L_model_forward(X, parameters,keep_prob=1):\n",
    "\n",
    "\n",
    "    caches = []\n",
    "    A = X\n",
    "    L = len(parameters) // 2                  # number of layers in the neural network\n",
    "    # Implement [LINEAR -> RELU]*(L-1). Add \"cache\" to the \"caches\" list.\n",
    "    for l in range(1, L):\n",
    "        A_prev = A \n",
    "        #print(A_prev.shape)\n",
    "        A, cache = linear_activation_forward(A_prev, parameters['W' + str(l)] ,parameters['b' + str(l)], \"relu\")\n",
    "        D = np.random.rand(A.shape[0],A.shape[1])\n",
    "        D = D < keep_prob\n",
    "        A = np.multiply(A,D )\n",
    "        A = A/keep_prob\n",
    "        cache = cache + (D,)\n",
    "        caches.append(cache)\n",
    "    \n",
    "    # Implement LINEAR -> SIGMOID. Add \"cache\" to the \"caches\" list.\n",
    "    AL, cache = linear_activation_forward(A,parameters['W' + str(L)] ,parameters['b' + str(L)],\"relu\" )\n",
    "    caches.append(cache)\n",
    "    assert(AL.shape == (1,X.shape[1]))\n",
    "            \n",
    "    return AL, caches"
   ]
  },
  {
   "cell_type": "markdown",
   "metadata": {},
   "source": [
    "# Cost Computation \n",
    "## L2 Regularization\n",
    "\n",
    "The standard way to avoid overfitting is called **L2 regularization**. It consists of appropriately modifying your cost function, from:\n",
    "$$J = \\frac{1}{2m} \\sum\\limits_{i = 1}^{m} \\left(y^{(i)}- a^{[L](i)}\\right)^{2} \\tag{1}$$\n",
    "To:\n",
    "$$J_{regularized} = \\small \\underbrace{\\frac{1}{2m} \\sum\\limits_{i = 1}^{m} \\left(y^{(i)}- a^{[L](i)}\\right)^{2} }_\\text{cross-entropy cost} + \\underbrace{\\frac{1}{m} \\frac{\\lambda}{2} \\sum\\limits_l\\sum\\limits_k\\sum\\limits_j W_{k,j}^{[l]2} }_\\text{L2 regularization cost} \\tag{2}$$\n"
   ]
  },
  {
   "cell_type": "code",
   "execution_count": 9,
   "metadata": {
    "collapsed": true
   },
   "outputs": [],
   "source": [
    "def compute_cost(AL, Y,parameters,lambd,regularized=False):\n",
    "\n",
    "    m = Y.shape[1]\n",
    "    cross_entropy_cost = (1/(2*m))* np.sum(np.square(AL - Y))\n",
    "    loop_len = len(parameters)//2\n",
    "    \n",
    "    if regularized == True:\n",
    "        temp = 0\n",
    "        for i in range(1,loop_len+1):\n",
    "            temp += np.sum(np.square(parameters['W' + str(i)]))\n",
    "        L2_regularization_cost = (1/m) * (lambd/2) * temp\n",
    "        cost = cross_entropy_cost + L2_regularization_cost\n",
    "    else:\n",
    "        cost = cross_entropy_cost\n",
    "\n",
    "    cost = np.squeeze(cost)\n",
    "    assert(cost.shape == ())\n",
    "    \n",
    "    return cost"
   ]
  },
  {
   "cell_type": "markdown",
   "metadata": {},
   "source": [
    "## Back Propogation\n",
    "\n",
    "."
   ]
  },
  {
   "cell_type": "code",
   "execution_count": 10,
   "metadata": {
    "collapsed": true
   },
   "outputs": [],
   "source": [
    "def linear_backward(dZ, cache,D,lambd,keep_prob,val):\n",
    "\n",
    "    #linear_cache, activation_cache,D = cache\n",
    "\n",
    "    linear_cache, activation_cache, dummy= cache\n",
    "    A_prev, W, b = linear_cache\n",
    "    m = A_prev.shape[1]\n",
    "    dA_prev = np.dot(W.T, dZ)\n",
    "    if val ==0:\n",
    "        dZ_prev = None\n",
    "    else:\n",
    "        dA_prev = np.multiply(dA_prev,D )\n",
    "        dA_prev = dA_prev/keep_prob\n",
    "        dZ_prev = np.multiply(dA_prev, np.int64(A_prev > 0))\n",
    "    \n",
    "    dW = (1./m) * np.dot(dZ,A_prev.T) + ((lambd/m) * W)\n",
    "    db = (1./m) * np.sum(dZ,axis=1)\n",
    "    assert (dA_prev.shape == A_prev.shape)\n",
    "    assert (dW.shape == W.shape)\n",
    "    assert (db.shape == b.shape)\n",
    "    return dZ_prev, dA_prev, dW, db"
   ]
  },
  {
   "cell_type": "code",
   "execution_count": 11,
   "metadata": {
    "collapsed": true
   },
   "outputs": [],
   "source": [
    "def L_model_backward(AL, Y, caches, lambd,keep_prob):\n",
    "\n",
    "    grads = {}\n",
    "    L = len(caches) # the number of layers\n",
    "    #print(L)\n",
    "    m = AL.shape[1]\n",
    "    Y = Y.reshape(AL.shape) # after this line, Y is the same shape as AL\n",
    "    \n",
    "    # Initializing the backpropagation and dZL for last layer \n",
    "    dAL = - (np.divide(Y, AL) - np.divide(1 - Y, 1 - AL))\n",
    "    linear_cache, activation_cache = caches[L-1]\n",
    "    A_prev2, W3, b3 = linear_cache\n",
    "    \n",
    "    dZ_prev3 = AL - Y\n",
    "    grads[\"dW\" + str(L)] = 1./m * np.dot(dZ_prev3, A_prev2.T)+((lambd/m) * W3)\n",
    "    grads[\"db\" + str(L)] = 1./m * np.sum(dZ_prev3, axis=1)\n",
    "    \n",
    "    dA_prev2 = np.dot(W3.T, dZ_prev3)\n",
    "    linear_cache, activation_cache,D = caches[L-2]\n",
    "    dA_prev2 = np.multiply(D,dA_prev2)\n",
    "    dA_prev2 = dA_prev2/keep_prob\n",
    "    dZ = np.multiply(dA_prev2, np.int64(A_prev2 > 0))\n",
    "    x, y,D_prev = caches[L-3]\n",
    "    \n",
    "    # Loop from l=L-2 to l=0\n",
    "    for l in reversed(range(L)):\n",
    "        # lth layer: (RELU -> LINEAR) gradients.\n",
    "        # Inputs: \"grads[\"dA\" + str(l + 1)], current_cache\". Outputs: \"grads[\"dA\" + str(l)] , grads[\"dW\" + str(l + 1)] , grads[\"db\" + str(l + 1)] \n",
    "        current_cache = caches[l-1]\n",
    "        D = D_prev\n",
    "        val = l - 1\n",
    "        dZ_prev, dA_prev_temp, dW_temp, db_temp = linear_backward(dZ, current_cache, D,lambd,keep_prob, val)\n",
    "        if val ==0:\n",
    "            pass\n",
    "        else:\n",
    "            x, y, D_prev = caches[l-2]\n",
    "        dZ = dZ_prev\n",
    "        #grads[\"dA\" + str(l)] = dA_prev_temp\n",
    "        grads[\"dW\" + str(l)] = dW_temp\n",
    "        grads[\"db\" + str(l)] = db_temp\n",
    "        if val ==0:\n",
    "            break\n",
    "    \n",
    "    return grads"
   ]
  },
  {
   "cell_type": "markdown",
   "metadata": {},
   "source": [
    "# Updating Hyper Parameters Based on Gradient Descent Derivative\n",
    "\n",
    "."
   ]
  },
  {
   "cell_type": "code",
   "execution_count": 12,
   "metadata": {
    "collapsed": true
   },
   "outputs": [],
   "source": [
    "def update_parameters(parameters, grads, learning_rate):\n",
    "\n",
    "    L = len(parameters) // 2 # number of layers in the neural network\n",
    "\n",
    "    # Update rule for each parameter. Use a for loop.\n",
    "    for l in range(L):\n",
    "        parameters[\"W\" + str(l+1)] = parameters[\"W\" + str(l+1)] - learning_rate * grads[\"dW\" + str(l + 1)]\n",
    "        parameters[\"b\" + str(l+1)] = parameters[\"b\" + str(l+1)] - learning_rate * grads[\"db\" + str(l + 1)]\n",
    "    return parameters\n"
   ]
  },
  {
   "cell_type": "markdown",
   "metadata": {},
   "source": [
    "# Deep Learning Model\n",
    "\n",
    "."
   ]
  },
  {
   "cell_type": "code",
   "execution_count": 14,
   "metadata": {
    "collapsed": true
   },
   "outputs": [],
   "source": [
    "def model(X, Y, learning_rate = 0.3, num_iterations = 10000, print_cost = True, lambd = 0.01, keep_prob = 1):\n",
    "        \n",
    "    grads = {}\n",
    "    costs = []                            # to keep track of the cost\n",
    "    m = X.shape[1]                        # number of examples\n",
    "    layers_dims = [X.shape[0],100,50, 1]\n",
    "    parameters = initialize_parameters_deep(layers_dims,\"random\")\n",
    "\n",
    "    # Loop (gradient descent)\n",
    "    for i in range(0, num_iterations):\n",
    "        AL, cache = L_model_forward(X, parameters,keep_prob)\n",
    "        cost = compute_cost(AL, Y.T,parameters,lambd,True)\n",
    "        grads = L_model_backward(AL, Y, cache, lambd,keep_prob)\n",
    "\n",
    "        parameters = update_parameters(parameters, grads, learning_rate)\n",
    "        \n",
    "        if print_cost and i % 1000 == 0:\n",
    "            print(\"Cost after iteration {}: {}\".format(i, cost))\n",
    "            if (i>= 3000):\n",
    "                x = str(input(\"Wanna continue?\"))\n",
    "                if x == str(\"No\"):\n",
    "                    break\n",
    "        if print_cost and i % 1000 == 0:\n",
    "            costs.append(cost)\n",
    "    \n",
    "    # plot the cost\n",
    "    plt.plot(costs)\n",
    "    plt.ylabel('cost')\n",
    "    plt.xlabel('iterations (x1,000)')\n",
    "    plt.title(\"Learning rate =\" + str(learning_rate))\n",
    "    plt.show()\n",
    "    \n",
    "    return parameters,grads"
   ]
  },
  {
   "cell_type": "code",
   "execution_count": 15,
   "metadata": {
    "scrolled": false
   },
   "outputs": [
    {
     "name": "stderr",
     "output_type": "stream",
     "text": [
      "C:\\Users\\gokul\\Anaconda3\\lib\\site-packages\\ipykernel_launcher.py:10: RuntimeWarning: divide by zero encountered in true_divide\n",
      "  # Remove the CWD from sys.path while we load stuff.\n"
     ]
    },
    {
     "name": "stdout",
     "output_type": "stream",
     "text": [
      "Cost after iteration 0: 18.61153052625323\n",
      "Cost after iteration 1000: 0.00471955334046848\n",
      "Cost after iteration 2000: 0.004225699628308712\n",
      "Cost after iteration 3000: 0.004041585928844044\n",
      "Wanna continue?n\n",
      "Cost after iteration 4000: 0.003951495801268497\n",
      "Wanna continue?n\n",
      "Cost after iteration 5000: 0.00389731839165323\n",
      "Wanna continue?n\n",
      "Cost after iteration 6000: 0.0038608467054401796\n",
      "Wanna continue?n\n",
      "Cost after iteration 7000: 0.0038390689707865798\n",
      "Wanna continue?n\n",
      "Cost after iteration 8000: 0.003822530323513884\n",
      "Wanna continue?a\n",
      "Cost after iteration 9000: 0.0038087875762504945\n",
      "Wanna continue?df\n"
     ]
    },
    {
     "data": {
      "image/png": "[encoded data removed]",
      "text/plain": [
       "<matplotlib.figure.Figure at 0x1c1df9c28d0>"
      ]
     },
     "metadata": {},
     "output_type": "display_data"
    }
   ],
   "source": [
    "parameters,grads = model(X, Y, lambd=4)"
   ]
  },
  {
   "cell_type": "code",
   "execution_count": 16,
   "metadata": {},
   "outputs": [
    {
     "name": "stdout",
     "output_type": "stream",
     "text": [
      "On the train set:\n",
      "=================\n",
      "Score: 98.59803918720111%\n",
      "On the Testing set:\n",
      "===================\n",
      "Score: 97.645169072843%\n"
     ]
    }
   ],
   "source": [
    "print(\"On the train set:\")\n",
    "print(\"=================\")\n",
    "AL, xx = L_model_forward(X, parameters)\n",
    "te = metrics.r2_score(AL.T, Y)\n",
    "print(\"Score: {}%\".format(te*100))\n",
    "print(\"On the Testing set:\")\n",
    "print(\"===================\")\n",
    "Y_predicted, xx = L_model_forward(X_test.T, parameters)\n",
    "tem = metrics.r2_score(Y_predicted.T, y_test)\n",
    "print(\"Score: {}%\".format(tem*100))"
   ]
  },
  {
   "cell_type": "code",
   "execution_count": 82,
   "metadata": {},
   "outputs": [
    {
     "name": "stdout",
     "output_type": "stream",
     "text": [
      "[[ 6.30752898  5.84710542  6.0216837   5.71843276  5.88094215]]\n",
      "[[ 6.28969568  5.77760666  6.01232121  5.76266762  5.91016458]]\n"
     ]
    }
   ],
   "source": [
    "print(y_test[:5].T)\n",
    "print(Y_predicted[0,:5])"
   ]
  },
  {
   "cell_type": "markdown",
   "metadata": {},
   "source": [
    "# Conclusion:\n",
    "\n",
    "##### This system can be effectively used by TED organization to predict the reach of a new video. For example, if a new video is recorded with features like Technology genere, certain duration, particular speaker, particular tags and with particular sentiment and polarity content we can say it will reach certain views after these many days with 97% confidence"
   ]
  }
 ],
 "metadata": {
  "kernelspec": {
   "display_name": "Python 3",
   "language": "python",
   "name": "python3"
  },
  "language_info": {
   "codemirror_mode": {
    "name": "ipython",
    "version": 3
   },
   "file_extension": ".py",
   "mimetype": "text/x-python",
   "name": "python",
   "nbconvert_exporter": "python",
   "pygments_lexer": "ipython3",
   "version": "3.6.3"
  }
 },
 "nbformat": 4,
 "nbformat_minor": 2
}
