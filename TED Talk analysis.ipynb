{
 "cells": [
  {
   "cell_type": "code",
   "execution_count": 4,
   "metadata": {
    "collapsed": true
   },
   "outputs": [],
   "source": [
    "import pandas as pd\n",
    "import numpy as np\n",
    "from sklearn.metrics import accuracy_score\n",
    "from sklearn import metrics\n",
    "from sklearn.model_selection import train_test_split\n",
    "\n",
    "df = pd.read_csv(\"ted_main.csv\")\n",
    "df1 = pd.read_csv(\"transcripts.csv\")\n",
    "#initial analysis\n",
    "#del(data['description'])\n",
    "#del(data['main_speaker'])\n",
    "#del(data['name'])\n",
    "#del(data['speaker_occupation'])\n",
    "#del(data['title'])\n",
    "#del(data['url'])"
   ]
  },
  {
   "cell_type": "code",
   "execution_count": 5,
   "metadata": {},
   "outputs": [
    {
     "data": {
      "text/html": [
       "<div>\n",
       "<style>\n",
       "    .dataframe thead tr:only-child th {\n",
       "        text-align: right;\n",
       "    }\n",
       "\n",
       "    .dataframe thead th {\n",
       "        text-align: left;\n",
       "    }\n",
       "\n",
       "    .dataframe tbody tr th {\n",
       "        vertical-align: top;\n",
       "    }\n",
       "</style>\n",
       "<table border=\"1\" class=\"dataframe\">\n",
       "  <thead>\n",
       "    <tr style=\"text-align: right;\">\n",
       "      <th></th>\n",
       "      <th>comments</th>\n",
       "      <th>description</th>\n",
       "      <th>duration</th>\n",
       "      <th>event</th>\n",
       "      <th>film_date</th>\n",
       "      <th>languages</th>\n",
       "      <th>main_speaker</th>\n",
       "      <th>name</th>\n",
       "      <th>num_speaker</th>\n",
       "      <th>published_date</th>\n",
       "      <th>ratings</th>\n",
       "      <th>related_talks</th>\n",
       "      <th>speaker_occupation</th>\n",
       "      <th>tags</th>\n",
       "      <th>title</th>\n",
       "      <th>url</th>\n",
       "      <th>views</th>\n",
       "    </tr>\n",
       "  </thead>\n",
       "  <tbody>\n",
       "    <tr>\n",
       "      <th>0</th>\n",
       "      <td>4553</td>\n",
       "      <td>Sir Ken Robinson makes an entertaining and pro...</td>\n",
       "      <td>1164</td>\n",
       "      <td>TED2006</td>\n",
       "      <td>1140825600</td>\n",
       "      <td>60</td>\n",
       "      <td>Ken Robinson</td>\n",
       "      <td>Ken Robinson: Do schools kill creativity?</td>\n",
       "      <td>1</td>\n",
       "      <td>1151367060</td>\n",
       "      <td>[{'id': 7, 'name': 'Funny', 'count': 19645}, {...</td>\n",
       "      <td>[{'id': 865, 'hero': 'https://pe.tedcdn.com/im...</td>\n",
       "      <td>Author/educator</td>\n",
       "      <td>['children', 'creativity', 'culture', 'dance',...</td>\n",
       "      <td>Do schools kill creativity?</td>\n",
       "      <td>https://www.ted.com/talks/ken_robinson_says_sc...</td>\n",
       "      <td>47227110</td>\n",
       "    </tr>\n",
       "    <tr>\n",
       "      <th>1</th>\n",
       "      <td>265</td>\n",
       "      <td>With the same humor and humanity he exuded in ...</td>\n",
       "      <td>977</td>\n",
       "      <td>TED2006</td>\n",
       "      <td>1140825600</td>\n",
       "      <td>43</td>\n",
       "      <td>Al Gore</td>\n",
       "      <td>Al Gore: Averting the climate crisis</td>\n",
       "      <td>1</td>\n",
       "      <td>1151367060</td>\n",
       "      <td>[{'id': 7, 'name': 'Funny', 'count': 544}, {'i...</td>\n",
       "      <td>[{'id': 243, 'hero': 'https://pe.tedcdn.com/im...</td>\n",
       "      <td>Climate advocate</td>\n",
       "      <td>['alternative energy', 'cars', 'climate change...</td>\n",
       "      <td>Averting the climate crisis</td>\n",
       "      <td>https://www.ted.com/talks/al_gore_on_averting_...</td>\n",
       "      <td>3200520</td>\n",
       "    </tr>\n",
       "    <tr>\n",
       "      <th>2</th>\n",
       "      <td>124</td>\n",
       "      <td>New York Times columnist David Pogue takes aim...</td>\n",
       "      <td>1286</td>\n",
       "      <td>TED2006</td>\n",
       "      <td>1140739200</td>\n",
       "      <td>26</td>\n",
       "      <td>David Pogue</td>\n",
       "      <td>David Pogue: Simplicity sells</td>\n",
       "      <td>1</td>\n",
       "      <td>1151367060</td>\n",
       "      <td>[{'id': 7, 'name': 'Funny', 'count': 964}, {'i...</td>\n",
       "      <td>[{'id': 1725, 'hero': 'https://pe.tedcdn.com/i...</td>\n",
       "      <td>Technology columnist</td>\n",
       "      <td>['computers', 'entertainment', 'interface desi...</td>\n",
       "      <td>Simplicity sells</td>\n",
       "      <td>https://www.ted.com/talks/david_pogue_says_sim...</td>\n",
       "      <td>1636292</td>\n",
       "    </tr>\n",
       "    <tr>\n",
       "      <th>3</th>\n",
       "      <td>200</td>\n",
       "      <td>In an emotionally charged talk, MacArthur-winn...</td>\n",
       "      <td>1116</td>\n",
       "      <td>TED2006</td>\n",
       "      <td>1140912000</td>\n",
       "      <td>35</td>\n",
       "      <td>Majora Carter</td>\n",
       "      <td>Majora Carter: Greening the ghetto</td>\n",
       "      <td>1</td>\n",
       "      <td>1151367060</td>\n",
       "      <td>[{'id': 3, 'name': 'Courageous', 'count': 760}...</td>\n",
       "      <td>[{'id': 1041, 'hero': 'https://pe.tedcdn.com/i...</td>\n",
       "      <td>Activist for environmental justice</td>\n",
       "      <td>['MacArthur grant', 'activism', 'business', 'c...</td>\n",
       "      <td>Greening the ghetto</td>\n",
       "      <td>https://www.ted.com/talks/majora_carter_s_tale...</td>\n",
       "      <td>1697550</td>\n",
       "    </tr>\n",
       "    <tr>\n",
       "      <th>4</th>\n",
       "      <td>593</td>\n",
       "      <td>You've never seen data presented like this. Wi...</td>\n",
       "      <td>1190</td>\n",
       "      <td>TED2006</td>\n",
       "      <td>1140566400</td>\n",
       "      <td>48</td>\n",
       "      <td>Hans Rosling</td>\n",
       "      <td>Hans Rosling: The best stats you've ever seen</td>\n",
       "      <td>1</td>\n",
       "      <td>1151440680</td>\n",
       "      <td>[{'id': 9, 'name': 'Ingenious', 'count': 3202}...</td>\n",
       "      <td>[{'id': 2056, 'hero': 'https://pe.tedcdn.com/i...</td>\n",
       "      <td>Global health expert; data visionary</td>\n",
       "      <td>['Africa', 'Asia', 'Google', 'demo', 'economic...</td>\n",
       "      <td>The best stats you've ever seen</td>\n",
       "      <td>https://www.ted.com/talks/hans_rosling_shows_t...</td>\n",
       "      <td>12005869</td>\n",
       "    </tr>\n",
       "  </tbody>\n",
       "</table>\n",
       "</div>"
      ],
      "text/plain": [
       "   comments                                        description  duration  \\\n",
       "0      4553  Sir Ken Robinson makes an entertaining and pro...      1164   \n",
       "1       265  With the same humor and humanity he exuded in ...       977   \n",
       "2       124  New York Times columnist David Pogue takes aim...      1286   \n",
       "3       200  In an emotionally charged talk, MacArthur-winn...      1116   \n",
       "4       593  You've never seen data presented like this. Wi...      1190   \n",
       "\n",
       "     event   film_date  languages   main_speaker  \\\n",
       "0  TED2006  1140825600         60   Ken Robinson   \n",
       "1  TED2006  1140825600         43        Al Gore   \n",
       "2  TED2006  1140739200         26    David Pogue   \n",
       "3  TED2006  1140912000         35  Majora Carter   \n",
       "4  TED2006  1140566400         48   Hans Rosling   \n",
       "\n",
       "                                            name  num_speaker  published_date  \\\n",
       "0      Ken Robinson: Do schools kill creativity?            1      1151367060   \n",
       "1           Al Gore: Averting the climate crisis            1      1151367060   \n",
       "2                  David Pogue: Simplicity sells            1      1151367060   \n",
       "3             Majora Carter: Greening the ghetto            1      1151367060   \n",
       "4  Hans Rosling: The best stats you've ever seen            1      1151440680   \n",
       "\n",
       "                                             ratings  \\\n",
       "0  [{'id': 7, 'name': 'Funny', 'count': 19645}, {...   \n",
       "1  [{'id': 7, 'name': 'Funny', 'count': 544}, {'i...   \n",
       "2  [{'id': 7, 'name': 'Funny', 'count': 964}, {'i...   \n",
       "3  [{'id': 3, 'name': 'Courageous', 'count': 760}...   \n",
       "4  [{'id': 9, 'name': 'Ingenious', 'count': 3202}...   \n",
       "\n",
       "                                       related_talks  \\\n",
       "0  [{'id': 865, 'hero': 'https://pe.tedcdn.com/im...   \n",
       "1  [{'id': 243, 'hero': 'https://pe.tedcdn.com/im...   \n",
       "2  [{'id': 1725, 'hero': 'https://pe.tedcdn.com/i...   \n",
       "3  [{'id': 1041, 'hero': 'https://pe.tedcdn.com/i...   \n",
       "4  [{'id': 2056, 'hero': 'https://pe.tedcdn.com/i...   \n",
       "\n",
       "                     speaker_occupation  \\\n",
       "0                       Author/educator   \n",
       "1                      Climate advocate   \n",
       "2                  Technology columnist   \n",
       "3    Activist for environmental justice   \n",
       "4  Global health expert; data visionary   \n",
       "\n",
       "                                                tags  \\\n",
       "0  ['children', 'creativity', 'culture', 'dance',...   \n",
       "1  ['alternative energy', 'cars', 'climate change...   \n",
       "2  ['computers', 'entertainment', 'interface desi...   \n",
       "3  ['MacArthur grant', 'activism', 'business', 'c...   \n",
       "4  ['Africa', 'Asia', 'Google', 'demo', 'economic...   \n",
       "\n",
       "                             title  \\\n",
       "0      Do schools kill creativity?   \n",
       "1      Averting the climate crisis   \n",
       "2                 Simplicity sells   \n",
       "3              Greening the ghetto   \n",
       "4  The best stats you've ever seen   \n",
       "\n",
       "                                                 url     views  \n",
       "0  https://www.ted.com/talks/ken_robinson_says_sc...  47227110  \n",
       "1  https://www.ted.com/talks/al_gore_on_averting_...   3200520  \n",
       "2  https://www.ted.com/talks/david_pogue_says_sim...   1636292  \n",
       "3  https://www.ted.com/talks/majora_carter_s_tale...   1697550  \n",
       "4  https://www.ted.com/talks/hans_rosling_shows_t...  12005869  "
      ]
     },
     "execution_count": 5,
     "metadata": {},
     "output_type": "execute_result"
    }
   ],
   "source": [
    "df.head()"
   ]
  },
  {
   "cell_type": "code",
   "execution_count": 6,
   "metadata": {},
   "outputs": [
    {
     "data": {
      "text/plain": [
       "Index(['comments', 'description', 'duration', 'event', 'film_date',\n",
       "       'languages', 'main_speaker', 'name', 'num_speaker', 'published_date',\n",
       "       'ratings', 'related_talks', 'speaker_occupation', 'tags', 'title',\n",
       "       'url', 'views'],\n",
       "      dtype='object')"
      ]
     },
     "execution_count": 6,
     "metadata": {},
     "output_type": "execute_result"
    }
   ],
   "source": [
    "df.columns"
   ]
  },
  {
   "cell_type": "code",
   "execution_count": 7,
   "metadata": {
    "collapsed": true
   },
   "outputs": [],
   "source": [
    "df['published_date'] = pd.to_datetime(df['published_date'])\n",
    "df['film_date'] = pd.to_datetime(df['film_date'])"
   ]
  },
  {
   "cell_type": "code",
   "execution_count": 8,
   "metadata": {},
   "outputs": [
    {
     "data": {
      "text/html": [
       "<div>\n",
       "<style>\n",
       "    .dataframe thead tr:only-child th {\n",
       "        text-align: right;\n",
       "    }\n",
       "\n",
       "    .dataframe thead th {\n",
       "        text-align: left;\n",
       "    }\n",
       "\n",
       "    .dataframe tbody tr th {\n",
       "        vertical-align: top;\n",
       "    }\n",
       "</style>\n",
       "<table border=\"1\" class=\"dataframe\">\n",
       "  <thead>\n",
       "    <tr style=\"text-align: right;\">\n",
       "      <th></th>\n",
       "      <th>comments</th>\n",
       "      <th>duration</th>\n",
       "      <th>languages</th>\n",
       "      <th>num_speaker</th>\n",
       "      <th>views</th>\n",
       "    </tr>\n",
       "  </thead>\n",
       "  <tbody>\n",
       "    <tr>\n",
       "      <th>count</th>\n",
       "      <td>2550.000000</td>\n",
       "      <td>2550.000000</td>\n",
       "      <td>2550.000000</td>\n",
       "      <td>2550.000000</td>\n",
       "      <td>2.550000e+03</td>\n",
       "    </tr>\n",
       "    <tr>\n",
       "      <th>mean</th>\n",
       "      <td>191.562353</td>\n",
       "      <td>826.510196</td>\n",
       "      <td>27.326275</td>\n",
       "      <td>1.028235</td>\n",
       "      <td>1.698297e+06</td>\n",
       "    </tr>\n",
       "    <tr>\n",
       "      <th>std</th>\n",
       "      <td>282.315223</td>\n",
       "      <td>374.009138</td>\n",
       "      <td>9.563452</td>\n",
       "      <td>0.207705</td>\n",
       "      <td>2.498479e+06</td>\n",
       "    </tr>\n",
       "    <tr>\n",
       "      <th>min</th>\n",
       "      <td>2.000000</td>\n",
       "      <td>135.000000</td>\n",
       "      <td>0.000000</td>\n",
       "      <td>1.000000</td>\n",
       "      <td>5.044300e+04</td>\n",
       "    </tr>\n",
       "    <tr>\n",
       "      <th>25%</th>\n",
       "      <td>63.000000</td>\n",
       "      <td>577.000000</td>\n",
       "      <td>23.000000</td>\n",
       "      <td>1.000000</td>\n",
       "      <td>7.557928e+05</td>\n",
       "    </tr>\n",
       "    <tr>\n",
       "      <th>50%</th>\n",
       "      <td>118.000000</td>\n",
       "      <td>848.000000</td>\n",
       "      <td>28.000000</td>\n",
       "      <td>1.000000</td>\n",
       "      <td>1.124524e+06</td>\n",
       "    </tr>\n",
       "    <tr>\n",
       "      <th>75%</th>\n",
       "      <td>221.750000</td>\n",
       "      <td>1046.750000</td>\n",
       "      <td>33.000000</td>\n",
       "      <td>1.000000</td>\n",
       "      <td>1.700760e+06</td>\n",
       "    </tr>\n",
       "    <tr>\n",
       "      <th>max</th>\n",
       "      <td>6404.000000</td>\n",
       "      <td>5256.000000</td>\n",
       "      <td>72.000000</td>\n",
       "      <td>5.000000</td>\n",
       "      <td>4.722711e+07</td>\n",
       "    </tr>\n",
       "  </tbody>\n",
       "</table>\n",
       "</div>"
      ],
      "text/plain": [
       "          comments     duration    languages  num_speaker         views\n",
       "count  2550.000000  2550.000000  2550.000000  2550.000000  2.550000e+03\n",
       "mean    191.562353   826.510196    27.326275     1.028235  1.698297e+06\n",
       "std     282.315223   374.009138     9.563452     0.207705  2.498479e+06\n",
       "min       2.000000   135.000000     0.000000     1.000000  5.044300e+04\n",
       "25%      63.000000   577.000000    23.000000     1.000000  7.557928e+05\n",
       "50%     118.000000   848.000000    28.000000     1.000000  1.124524e+06\n",
       "75%     221.750000  1046.750000    33.000000     1.000000  1.700760e+06\n",
       "max    6404.000000  5256.000000    72.000000     5.000000  4.722711e+07"
      ]
     },
     "execution_count": 8,
     "metadata": {},
     "output_type": "execute_result"
    }
   ],
   "source": [
    "df.describe()\n",
    "#del(data['event'])"
   ]
  },
  {
   "cell_type": "code",
   "execution_count": 9,
   "metadata": {
    "collapsed": true
   },
   "outputs": [],
   "source": [
    "X = df[[\"comments\", \"duration\",\"languages\", \"num_speaker\"]]\n",
    "y = df[\"views\"]\n",
    "from sklearn import linear_model\n",
    "from sklearn.metrics import mean_squared_error, r2_score\n"
   ]
  },
  {
   "cell_type": "code",
   "execution_count": 10,
   "metadata": {},
   "outputs": [
    {
     "name": "stdout",
     "output_type": "stream",
     "text": [
      "0.0329358592634\n",
      "[  4800.59818153    335.96504815  58645.12711087  81416.76158805]\n",
      "9.53344065328e+12\n",
      "-0.446088541032\n"
     ]
    }
   ],
   "source": [
    "X_train, X_test, y_train, y_test = train_test_split(X, y, test_size=0.10, random_state=324)\n",
    "reg = linear_model.Ridge (alpha = 0.5)\n",
    "reg.fit(X_train, y_train)\n",
    "predicted = reg.predict(X_test)\n",
    "temp = reg.score(X_test,y_test)\n",
    "print(temp)\n",
    "print(reg.coef_)\n",
    "print(mean_squared_error(predicted, y_test))\n",
    "print(r2_score(predicted, y_test))"
   ]
  },
  {
   "cell_type": "code",
   "execution_count": 61,
   "metadata": {},
   "outputs": [
    {
     "data": {
      "text/plain": [
       "0.032934908255207063"
      ]
     },
     "execution_count": 61,
     "metadata": {},
     "output_type": "execute_result"
    }
   ],
   "source": [
    "temp"
   ]
  },
  {
   "cell_type": "code",
   "execution_count": null,
   "metadata": {
    "collapsed": true
   },
   "outputs": [],
   "source": []
  },
  {
   "cell_type": "code",
   "execution_count": 12,
   "metadata": {},
   "outputs": [
    {
     "data": {
      "text/plain": [
       "count    2550.000000\n",
       "mean      191.562353\n",
       "std       282.315223\n",
       "min         2.000000\n",
       "25%        63.000000\n",
       "50%       118.000000\n",
       "75%       221.750000\n",
       "max      6404.000000\n",
       "Name: comments, dtype: float64"
      ]
     },
     "execution_count": 12,
     "metadata": {},
     "output_type": "execute_result"
    }
   ],
   "source": [
    "data['comments'].describe()"
   ]
  },
  {
   "cell_type": "code",
   "execution_count": 13,
   "metadata": {
    "collapsed": true
   },
   "outputs": [],
   "source": [
    "import json\n",
    "from pandas.io.json import json_normalize as jsy"
   ]
  },
  {
   "cell_type": "code",
   "execution_count": 26,
   "metadata": {},
   "outputs": [
    {
     "data": {
      "text/plain": [
       "0       ['children', 'creativity', 'culture', 'dance',...\n",
       "1       ['alternative energy', 'cars', 'climate change...\n",
       "2       ['computers', 'entertainment', 'interface desi...\n",
       "3       ['MacArthur grant', 'activism', 'business', 'c...\n",
       "4       ['Africa', 'Asia', 'Google', 'demo', 'economic...\n",
       "5       ['business', 'culture', 'entertainment', 'goal...\n",
       "6       ['Christianity', 'God', 'atheism', 'comedy', '...\n",
       "7       ['architecture', 'collaboration', 'culture', '...\n",
       "8       ['God', 'TED Brain Trust', 'atheism', 'brain',...\n",
       "9       ['Christianity', 'God', 'culture', 'happiness'...\n",
       "10      ['activism', 'architecture', 'collaboration', ...\n",
       "11      ['TED Prize', 'art', 'culture', 'entertainment...\n",
       "12      ['TED Prize', 'collaboration', 'disease', 'ebo...\n",
       "13      ['demo', 'design', 'interface design', 'techno...\n",
       "14      ['children', 'design', 'education', 'entrepren...\n",
       "15      ['entertainment', 'music', 'performance', 'vio...\n",
       "16      ['creativity', 'entertainment', 'music', 'perf...\n",
       "17      ['MacArthur grant', 'alternative energy', 'des...\n",
       "18      ['DNA', 'biology', 'creativity', 'design', 'in...\n",
       "19      ['business', 'collaboration', 'culture', 'inve...\n",
       "20      ['business', 'collaboration', 'culture', 'glob...\n",
       "21      ['collaboration', 'comedy', 'community', 'cult...\n",
       "22      ['business', 'communication', 'community', 'cu...\n",
       "23      ['cognitive science', 'culture', 'evolution', ...\n",
       "24      ['culture', 'entertainment', 'gender', 'global...\n",
       "25      ['climate change', 'cosmos', 'culture', 'envir...\n",
       "26      ['astronomy', 'biology', 'cognitive science', ...\n",
       "27      ['business', 'cities', 'culture', 'economics',...\n",
       "28      ['business', 'choice', 'consumerism', 'culture...\n",
       "29      ['TED Brain Trust', 'brain', 'choice', 'cultur...\n",
       "                              ...                        \n",
       "2520    ['AI', 'computers', 'economics', 'future', 'hu...\n",
       "2521    ['biology', 'biomechanics', 'cancer', 'chemist...\n",
       "2522    ['Africa', 'art', 'beauty', 'creativity', 'per...\n",
       "2523    ['TEDx', 'business', 'capitalism', 'community'...\n",
       "2524    ['Africa', 'TED Fellows', 'art', 'creativity',...\n",
       "2525    ['TEDx', 'activism', 'children', 'family', 'po...\n",
       "2526    ['AI', 'education', 'intelligence', 'robots', ...\n",
       "2527    ['TEDx', 'United States', 'activism', 'democra...\n",
       "2528    ['TEDx', 'ancient world', 'archaeology', 'cons...\n",
       "2529    ['TEDx', 'community', 'humanity', 'identity', ...\n",
       "2530    ['architecture', 'art', 'cities', 'creativity'...\n",
       "2531    ['TEDx', 'security', 'social media', 'terroris...\n",
       "2532    ['algorithm', 'business', 'collaboration', 'co...\n",
       "2533    ['TED en Español', 'art', 'creativity', 'desig...\n",
       "2534    ['TEDx', 'art', 'climate change', 'environment...\n",
       "2535    ['Africa', 'activism', 'cities', 'government',...\n",
       "2536    ['TEDx', 'communication', 'friendship', 'polit...\n",
       "2537    ['happiness', 'humanity', 'personal growth', '...\n",
       "2538    ['TEDx', 'business', 'corruption', 'economics'...\n",
       "2539    ['Africa', 'agriculture', 'farming', 'food', '...\n",
       "2540    ['business', 'capitalism', 'collaboration', 'e...\n",
       "2541               ['TEDx', 'physics', 'play', 'science']\n",
       "2542    ['Africa', 'activism', 'art', 'community', 'hi...\n",
       "2543    ['DNA', 'Human body', 'biology', 'data', 'entr...\n",
       "2544    ['Africa', 'agriculture', 'history', 'leadersh...\n",
       "2545    ['TED Residency', 'United States', 'community'...\n",
       "2546    ['Mars', 'South America', 'TED Fellows', 'astr...\n",
       "2547    ['AI', 'ants', 'fish', 'future', 'innovation',...\n",
       "2548    ['Internet', 'TEDx', 'United States', 'communi...\n",
       "2549    ['cities', 'design', 'future', 'infrastructure...\n",
       "Name: tags, Length: 2550, dtype: object"
      ]
     },
     "execution_count": 26,
     "metadata": {},
     "output_type": "execute_result"
    }
   ],
   "source": [
    "data['tags']"
   ]
  },
  {
   "cell_type": "code",
   "execution_count": 27,
   "metadata": {
    "collapsed": true
   },
   "outputs": [],
   "source": [
    "data1 = pd.read_csv(\"transcripts.csv\")"
   ]
  },
  {
   "cell_type": "code",
   "execution_count": 28,
   "metadata": {},
   "outputs": [
    {
     "data": {
      "text/html": [
       "<div>\n",
       "<style>\n",
       "    .dataframe thead tr:only-child th {\n",
       "        text-align: right;\n",
       "    }\n",
       "\n",
       "    .dataframe thead th {\n",
       "        text-align: left;\n",
       "    }\n",
       "\n",
       "    .dataframe tbody tr th {\n",
       "        vertical-align: top;\n",
       "    }\n",
       "</style>\n",
       "<table border=\"1\" class=\"dataframe\">\n",
       "  <thead>\n",
       "    <tr style=\"text-align: right;\">\n",
       "      <th></th>\n",
       "      <th>transcript</th>\n",
       "      <th>url</th>\n",
       "    </tr>\n",
       "  </thead>\n",
       "  <tbody>\n",
       "    <tr>\n",
       "      <th>0</th>\n",
       "      <td>Good morning. How are you?(Laughter)It's been ...</td>\n",
       "      <td>https://www.ted.com/talks/ken_robinson_says_sc...</td>\n",
       "    </tr>\n",
       "    <tr>\n",
       "      <th>1</th>\n",
       "      <td>Thank you so much, Chris. And it's truly a gre...</td>\n",
       "      <td>https://www.ted.com/talks/al_gore_on_averting_...</td>\n",
       "    </tr>\n",
       "    <tr>\n",
       "      <th>2</th>\n",
       "      <td>(Music: \"The Sound of Silence,\" Simon &amp; Garfun...</td>\n",
       "      <td>https://www.ted.com/talks/david_pogue_says_sim...</td>\n",
       "    </tr>\n",
       "    <tr>\n",
       "      <th>3</th>\n",
       "      <td>If you're here today — and I'm very happy that...</td>\n",
       "      <td>https://www.ted.com/talks/majora_carter_s_tale...</td>\n",
       "    </tr>\n",
       "    <tr>\n",
       "      <th>4</th>\n",
       "      <td>About 10 years ago, I took on the task to teac...</td>\n",
       "      <td>https://www.ted.com/talks/hans_rosling_shows_t...</td>\n",
       "    </tr>\n",
       "  </tbody>\n",
       "</table>\n",
       "</div>"
      ],
      "text/plain": [
       "                                          transcript  \\\n",
       "0  Good morning. How are you?(Laughter)It's been ...   \n",
       "1  Thank you so much, Chris. And it's truly a gre...   \n",
       "2  (Music: \"The Sound of Silence,\" Simon & Garfun...   \n",
       "3  If you're here today — and I'm very happy that...   \n",
       "4  About 10 years ago, I took on the task to teac...   \n",
       "\n",
       "                                                 url  \n",
       "0  https://www.ted.com/talks/ken_robinson_says_sc...  \n",
       "1  https://www.ted.com/talks/al_gore_on_averting_...  \n",
       "2  https://www.ted.com/talks/david_pogue_says_sim...  \n",
       "3  https://www.ted.com/talks/majora_carter_s_tale...  \n",
       "4  https://www.ted.com/talks/hans_rosling_shows_t...  "
      ]
     },
     "execution_count": 28,
     "metadata": {},
     "output_type": "execute_result"
    }
   ],
   "source": [
    "data1.head()"
   ]
  },
  {
   "cell_type": "code",
   "execution_count": 29,
   "metadata": {},
   "outputs": [
    {
     "data": {
      "text/plain": [
       "(2467, 2)"
      ]
     },
     "execution_count": 29,
     "metadata": {},
     "output_type": "execute_result"
    }
   ],
   "source": [
    "data1.shape"
   ]
  },
  {
   "cell_type": "code",
   "execution_count": 38,
   "metadata": {},
   "outputs": [
    {
     "data": {
      "text/plain": [
       "(86, 17)"
      ]
     },
     "execution_count": 38,
     "metadata": {},
     "output_type": "execute_result"
    }
   ],
   "source": [
    "data[data['languages']==0].shape"
   ]
  },
  {
   "cell_type": "code",
   "execution_count": 35,
   "metadata": {},
   "outputs": [
    {
     "data": {
      "text/plain": [
       "(2550, 17)"
      ]
     },
     "execution_count": 35,
     "metadata": {},
     "output_type": "execute_result"
    }
   ],
   "source": [
    "data.shape"
   ]
  },
  {
   "cell_type": "code",
   "execution_count": 36,
   "metadata": {},
   "outputs": [
    {
     "data": {
      "text/plain": [
       "(2467, 2)"
      ]
     },
     "execution_count": 36,
     "metadata": {},
     "output_type": "execute_result"
    }
   ],
   "source": [
    "data1.shape"
   ]
  },
  {
   "cell_type": "code",
   "execution_count": 11,
   "metadata": {},
   "outputs": [
    {
     "data": {
      "text/plain": [
       "dict_items([(' children ', 143), (' creativity ', 189), (' culture ', 486), (' dance ', 25), (' education ', 153), (' parenting ', 50), (' teaching ', 43), (' alternative', 37), ('energy ', 70), (' cars ', 20), (' climate', 87), ('change ', 305), (' environment ', 165), (' global', 565), ('issues ', 501), (' science ', 567), (' sustainability ', 80), (' technology ', 727), (' computers ', 111), (' entertainment ', 299), (' interface', 28), ('design ', 108), (' media ', 68), (' music ', 140), (' performance ', 117), (' simplicity ', 14), (' software ', 45), (' macarthur', 13), ('grant ', 13), (' activism ', 157), (' business ', 348), (' cities ', 123), (' green ', 73), (' inequality ', 94), (' politics ', 128), (' pollution ', 39), (' africa ', 105), (' asia ', 26), (' google ', 10), (' demo ', 53), (' economics ', 164), ('development ', 64), (' health ', 236), (' math ', 57), (' statistics ', 28), (' visualizations ', 83), (' goal setting ', 36), (' motivation ', 63), (' potential ', 73), (' psychology ', 122), (' christianity ', 6), (' god ', 16), (' atheism ', 5), (' comedy ', 48), (' humor ', 105), (' religion ', 56), (' storytelling ', 120), (' architecture ', 82), (' collaboration ', 174), (' design ', 418), (' library ', 18), (' ted', 254), ('brain', 49), ('trust ', 49), (' brain ', 158), (' cognitive', 58), ('science ', 66), (' consciousness ', 24), (' evolution ', 68), (' philosophy ', 64), (' happiness ', 73), (' leadership ', 44), (' philanthropy ', 33), (' disaster', 25), ('relief ', 25), (' invention ', 140), (' open source ', 34), ('prize ', 30), (' art ', 221), (' film ', 67), (' movies ', 18), (' peace ', 54), (' social', 270), (' disease ', 79), (' ebola ', 11), (' entrepreneur ', 64), (' violin ', 6), (' wunderkind ', 6), (' youth ', 38), (' piano ', 15), (' engineering ', 111), (' industrial', 29), (' dna ', 46), (' biology ', 189), (' nature ', 116), (' product', 51), (' science', 42), ('and', 42), ('art ', 68), (' wikipedia ', 8), (' community ', 148), (' communication ', 191), (' gender ', 27), (' love ', 39), (' relationships ', 29), (' theater ', 16), (' women ', 117), (' cosmos ', 16), (' physics ', 75), (' universe ', 52), (' astronomy ', 48), (' narcotics ', 7), (' race ', 43), (' choice ', 42), (' consumerism ', 22), (' food ', 57), (' marketing ', 21), (' decision making ', 36), (' personal', 96), ('growth ', 96), (' cancer ', 47), (' aging ', 43), (' biotech ', 72), (' future ', 195), (' health', 132), ('care ', 132), (' investment ', 32), (' microfinance ', 4), (' poverty ', 59), (' telecom ', 8), (' transportation ', 36), (' corruption ', 22), (' military ', 20), (' policy ', 51), (' nasa ', 21), (' aircraft ', 7), (' flight ', 15), (' rocket', 8), (' exploration ', 100), (' sports ', 31), (' travel ', 10), (' aids ', 16), (' photography ', 92), (' medicine ', 162), (' genetics ', 62), (' faith ', 24), (' illusion ', 20), (' robots ', 59), (' history ', 146), (' success ', 28), (' work ', 71), (' poetry ', 53), (' obesity ', 11), (' anthropology ', 23), (' language ', 59), (' complexity ', 18), (' time ', 17), (' evolutionary', 10), ('psychology ', 10), (' war ', 113), (' map ', 16), (' urban', 29), ('planning ', 29), (' innovation ', 229), (' united', 30), ('states ', 30), (' interview ', 14), (' performance', 23), (' materials ', 39), (' code ', 25), (' work life', 14), ('balance ', 14), (' ants ', 4), (' biodiversity ', 62), (' ecology ', 54), (' insects ', 35), (' animals ', 109), (' primates ', 6), (' typography ', 6), (' live', 80), ('music ', 80), (' singer ', 17), (' brazil ', 10), (' animation ', 16), (' biomimicry ', 22), (' fish ', 28), (' oceans ', 77), (' apes ', 3), (' intelligence ', 50), (' biomechanics ', 30), (' online', 23), ('video ', 23), (' guitar ', 17), (' vocals ', 9), (' cello ', 3), (' self ', 50), (' china ', 21), (' web ', 43), (' memory ', 23), (' spoken', 15), ('word ', 15), (' composing ', 11), (' natural', 22), ('disaster ', 10), (' energy ', 52), (' museums ', 13), (' water ', 41), (' ai ', 43), (' microsoft ', 3), (' virtual', 14), ('reality ', 16), (' women', 26), ('in', 26), ('business ', 26), (' buddhism ', 7), (' new', 8), ('york ', 8), (' death ', 44), (' terrorism ', 38), (' moon ', 3), (' planets ', 27), (' adventure ', 48), (' mining ', 3), (' space ', 60), (' meme ', 5), (' bioethics ', 23), (' gaming ', 31), (' literature ', 21), (' prosthetics ', 17), (' books ', 36), (' sociology ', 21), (' violence ', 69), (' human', 21), ('origins ', 11), (' humanity ', 182), (' paleontology ', 10), (' asteroid ', 5), (' solar', 33), ('system ', 17), (' drones ', 18), (' illness ', 53), (' depression ', 25), (' mental', 59), ('health ', 121), (' suicide ', 8), (' law ', 48), (' string', 10), ('theory ', 10), (' magic ', 18), (' compassion ', 35), (' empathy ', 26), (' writing ', 67), (' play ', 18), (' south', 14), ('america ', 14), (' world', 19), ('cultures ', 19), (' infrastructure ', 49), (' ancient', 22), ('world ', 22), (' bees ', 11), (' garden ', 23), (' plants ', 28), (' toy ', 15), (' telescopes ', 18), (' hack ', 12), (' heart', 15), (' public', 65), (' big', 74), ('bang ', 9), (' bacteria ', 27), (' microbiology ', 31), (' news ', 19), (' submarine ', 10), (' sex ', 34), (' society ', 224), (' archaeology ', 9), (' dinosaurs ', 10), (' beauty ', 63), (' plastic ', 10), (' vaccines ', 12), (' conducting ', 7), (' family ', 54), (' trees ', 15), (' astrobiology ', 11), (' extraterrestrial', 14), ('life ', 14), (' introvert ', 5), (' personality ', 21), (' origami ', 2), (' dark', 13), ('matter ', 13), (' identity ', 113), (' nanoscale ', 24), (' geology ', 6), (' life ', 111), (' morality ', 22), (' presentation ', 14), (' crime ', 44), (' evil ', 2), (' prison ', 19), (' democracy ', 47), (' smell ', 9), (' charter', 8), ('for', 8), ('compassion ', 8), ('media ', 52), (' senses ', 23), (' mars ', 12), (' fashion ', 14), (' alzheimer s ', 6), (' curiosity ', 30), (' programming ', 20), (' chemistry ', 38), (' shopping ', 7), (' body', 11), ('language ', 11), (' virus ', 12), (' fear ', 31), (' birds ', 12), (' wind', 7), (' extreme', 7), ('sports ', 7), (' prediction ', 13), (' productivity ', 20), (' mind ', 71), ('fellows ', 143), ('resources ', 12), (' agriculture ', 36), (' india ', 17), (' neuroscience ', 89), (' tedx ', 450), (' money ', 32), (' state building ', 5), (' anthropocene ', 14), (' europe ', 18), (' data ', 94), (' sight ', 21), (' internet ', 84), (' government ', 93), (' men ', 9), (' advertising ', 10), (' sanitation ', 14), (' weather ', 13), ('problems ', 65), (' rivers ', 8), (' slavery ', 10), (' sexual', 10), ('violence ', 10), (' trafficking ', 6), (' egypt ', 14), (' novel ', 3), (' feminism ', 29), (' tedmed ', 19), (' autism', 10), ('spectrum', 10), ('disorder ', 10), (' botany ', 15), (' mission', 22), ('blue ', 22), (' friendship ', 11), (' student ', 6), (' hiv ', 6), (' nuclear', 14), ('weapons ', 4), (' oil ', 5), (' surveillance ', 21), (' iraq ', 12), (' islam ', 9), (' monkeys ', 7), (' lgbt ', 14), (' iran ', 5), (' middle', 32), ('east ', 32), (' sound ', 18), (' ptsd ', 10), (' population ', 12), (' manufacturing ', 16), (' tedyouth ', 24), (' gender', 40), ('equality ', 34), (' bullying ', 7), (' trust ', 11), (' sleep ', 4), (' journalism ', 50), (' cyborg ', 6), (' foreign', 8), ('policy ', 8), (' surgery ', 13), (' medical', 103), ('research ', 92), (' protests ', 13), (' deextinction ', 7), (' disability ', 34), (' exoskeleton ', 6), (' driverless', 9), ('cars ', 9), (' crowdsourcing ', 9), (' brand ', 3), (' speech ', 15), (' failure ', 14), (' security ', 40), (' pain ', 9), (' blindness ', 12), ('spectrum ', 6), (' glacier ', 4), (' mobility ', 7), ('en', 12), ('espa ol ', 12), ('spaces ', 18), ('body ', 10), (' nonviolence ', 6), (' pharmaceuticals ', 21), (' molecular', 32), ('biology ', 45), (' behavioral', 23), ('economics ', 23), ('imaging ', 11), (' physiology ', 23), (' pregnancy ', 8), (' synthetic', 13), (' hearing ', 5), (' jazz ', 4), (' nobel', 3), (' finance ', 17), (' algorithm ', 38), (' 3d', 3), ('printing ', 3), (' guns ', 6), (' conservation ', 15), (' immigration ', 14), (' criminal', 10), ('justice ', 10), (' ted ed ', 11), (' privacy ', 16), (' microbes ', 16), (' machine', 18), ('learning ', 18), (' skateboarding ', 1), (' augmented', 2), (' forensics ', 3), (' painting ', 8), (' pandemic ', 3), (' meditation ', 7), (' mindfulness ', 5), (' syria ', 8), (' transgender ', 7), (' testing ', 1), (' debate ', 7), (' farming ', 10), (' cloud ', 1), ('books ', 17), (' television ', 5), (' street', 3), (' addiction ', 5), (' crispr ', 4), (' vulnerability ', 4), (' capitalism ', 13), (' refugees ', 12), (' grammar ', 2), (' resources ', 5), (' discovery ', 12), (' blockchain ', 3), (' tednyc ', 19), (' urban ', 4), ('residency ', 6), (' biosphere ', 7), (' epidemiology ', 3), (' funny ', 1)])"
      ]
     },
     "execution_count": 11,
     "metadata": {},
     "output_type": "execute_result"
    }
   ],
   "source": [
    "import re\n",
    "import nltk\n",
    "import operator\n",
    "\n",
    "df2 = df['tags']\n",
    "temp = {}\n",
    "for each in df2.values:\n",
    "    list = each.split()\n",
    "    for every in list:\n",
    "        test = re.sub('[^A-Za-z0-9]+', ' ', every)\n",
    "        test = test.lower()\n",
    "        if test in temp.keys():\n",
    "            temp[test] +=  1\n",
    "        else:\n",
    "            temp[test]= 1"
   ]
  },
  {
   "cell_type": "code",
   "execution_count": 15,
   "metadata": {},
   "outputs": [],
   "source": [
    "new = pd.DataFrame.from_dict(temp, orient=\"index\")"
   ]
  },
  {
   "cell_type": "code",
   "execution_count": 77,
   "metadata": {},
   "outputs": [],
   "source": [
    "topTags = new.sort_values(by = 0, ascending=False).head(15).index\n",
    "newtopTags = []\n",
    "for i in topTags:\n",
    "    #print(type(i))\n",
    "    newtopTags.append(i.strip())"
   ]
  },
  {
   "cell_type": "code",
   "execution_count": 84,
   "metadata": {},
   "outputs": [
    {
     "data": {
      "text/plain": [
       "Index(['technology', 'science', 'global', 'issues', 'culture', 'tedx',\n",
       "       'design', 'business', 'change', 'entertainment', 'social', 'ted',\n",
       "       'health', 'innovation', 'society'],\n",
       "      dtype='object')"
      ]
     },
     "execution_count": 84,
     "metadata": {},
     "output_type": "execute_result"
    }
   ],
   "source": [
    "xx = pd.DataFrame(0, index=np.arange(len(df)), columns=newtopTags)\n",
    "xx.columns\n",
    "\n",
    "#xx['children'] = 0"
   ]
  },
  {
   "cell_type": "code",
   "execution_count": 70,
   "metadata": {},
   "outputs": [
    {
     "name": "stdout",
     "output_type": "stream",
     "text": [
      "['children', 'creativity', 'culture', 'dance', 'education', 'parenting', 'teaching']\n"
     ]
    },
    {
     "data": {
      "text/plain": [
       "True"
      ]
     },
     "execution_count": 70,
     "metadata": {},
     "output_type": "execute_result"
    }
   ],
   "source": [
    "'technology' in df['tags'][0]\n",
    "print(df['tags'][0])\n",
    "'culture' in df['tags'][0]"
   ]
  },
  {
   "cell_type": "code",
   "execution_count": 89,
   "metadata": {},
   "outputs": [],
   "source": [
    "for i in range(len(df)):\n",
    "    for j in topTags:\n",
    "        j = str(j).strip()\n",
    "        if str(j) in df['tags'][i]:\n",
    "            xx[str(j)][i] = 1"
   ]
  },
  {
   "cell_type": "code",
   "execution_count": 90,
   "metadata": {},
   "outputs": [
    {
     "data": {
      "text/html": [
       "<div>\n",
       "<style>\n",
       "    .dataframe thead tr:only-child th {\n",
       "        text-align: right;\n",
       "    }\n",
       "\n",
       "    .dataframe thead th {\n",
       "        text-align: left;\n",
       "    }\n",
       "\n",
       "    .dataframe tbody tr th {\n",
       "        vertical-align: top;\n",
       "    }\n",
       "</style>\n",
       "<table border=\"1\" class=\"dataframe\">\n",
       "  <thead>\n",
       "    <tr style=\"text-align: right;\">\n",
       "      <th></th>\n",
       "      <th>technology</th>\n",
       "      <th>science</th>\n",
       "      <th>global</th>\n",
       "      <th>issues</th>\n",
       "      <th>culture</th>\n",
       "      <th>tedx</th>\n",
       "      <th>design</th>\n",
       "      <th>business</th>\n",
       "      <th>change</th>\n",
       "      <th>entertainment</th>\n",
       "      <th>social</th>\n",
       "      <th>ted</th>\n",
       "      <th>health</th>\n",
       "      <th>innovation</th>\n",
       "      <th>society</th>\n",
       "    </tr>\n",
       "  </thead>\n",
       "  <tbody>\n",
       "    <tr>\n",
       "      <th>0</th>\n",
       "      <td>0</td>\n",
       "      <td>0</td>\n",
       "      <td>0</td>\n",
       "      <td>0</td>\n",
       "      <td>1</td>\n",
       "      <td>0</td>\n",
       "      <td>0</td>\n",
       "      <td>0</td>\n",
       "      <td>0</td>\n",
       "      <td>0</td>\n",
       "      <td>0</td>\n",
       "      <td>0</td>\n",
       "      <td>0</td>\n",
       "      <td>0</td>\n",
       "      <td>0</td>\n",
       "    </tr>\n",
       "    <tr>\n",
       "      <th>1</th>\n",
       "      <td>1</td>\n",
       "      <td>1</td>\n",
       "      <td>1</td>\n",
       "      <td>1</td>\n",
       "      <td>1</td>\n",
       "      <td>0</td>\n",
       "      <td>0</td>\n",
       "      <td>0</td>\n",
       "      <td>1</td>\n",
       "      <td>0</td>\n",
       "      <td>0</td>\n",
       "      <td>0</td>\n",
       "      <td>0</td>\n",
       "      <td>0</td>\n",
       "      <td>0</td>\n",
       "    </tr>\n",
       "    <tr>\n",
       "      <th>2</th>\n",
       "      <td>1</td>\n",
       "      <td>0</td>\n",
       "      <td>0</td>\n",
       "      <td>0</td>\n",
       "      <td>0</td>\n",
       "      <td>0</td>\n",
       "      <td>1</td>\n",
       "      <td>0</td>\n",
       "      <td>0</td>\n",
       "      <td>1</td>\n",
       "      <td>0</td>\n",
       "      <td>0</td>\n",
       "      <td>0</td>\n",
       "      <td>0</td>\n",
       "      <td>0</td>\n",
       "    </tr>\n",
       "    <tr>\n",
       "      <th>3</th>\n",
       "      <td>0</td>\n",
       "      <td>0</td>\n",
       "      <td>0</td>\n",
       "      <td>0</td>\n",
       "      <td>0</td>\n",
       "      <td>0</td>\n",
       "      <td>0</td>\n",
       "      <td>1</td>\n",
       "      <td>0</td>\n",
       "      <td>0</td>\n",
       "      <td>0</td>\n",
       "      <td>0</td>\n",
       "      <td>0</td>\n",
       "      <td>0</td>\n",
       "      <td>0</td>\n",
       "    </tr>\n",
       "    <tr>\n",
       "      <th>4</th>\n",
       "      <td>0</td>\n",
       "      <td>0</td>\n",
       "      <td>1</td>\n",
       "      <td>1</td>\n",
       "      <td>0</td>\n",
       "      <td>0</td>\n",
       "      <td>0</td>\n",
       "      <td>0</td>\n",
       "      <td>0</td>\n",
       "      <td>0</td>\n",
       "      <td>0</td>\n",
       "      <td>0</td>\n",
       "      <td>1</td>\n",
       "      <td>0</td>\n",
       "      <td>0</td>\n",
       "    </tr>\n",
       "  </tbody>\n",
       "</table>\n",
       "</div>"
      ],
      "text/plain": [
       "   technology  science  global  issues  culture  tedx  design  business  \\\n",
       "0           0        0       0       0        1     0       0         0   \n",
       "1           1        1       1       1        1     0       0         0   \n",
       "2           1        0       0       0        0     0       1         0   \n",
       "3           0        0       0       0        0     0       0         1   \n",
       "4           0        0       1       1        0     0       0         0   \n",
       "\n",
       "   change  entertainment  social  ted  health  innovation  society  \n",
       "0       0              0       0    0       0           0        0  \n",
       "1       1              0       0    0       0           0        0  \n",
       "2       0              1       0    0       0           0        0  \n",
       "3       0              0       0    0       0           0        0  \n",
       "4       0              0       0    0       1           0        0  "
      ]
     },
     "execution_count": 90,
     "metadata": {},
     "output_type": "execute_result"
    }
   ],
   "source": [
    "xx.head()"
   ]
  },
  {
   "cell_type": "code",
   "execution_count": 88,
   "metadata": {},
   "outputs": [
    {
     "data": {
      "text/plain": [
       "\"['alternative energy', 'cars', 'climate change', 'culture', 'environment', 'global issues', 'science', 'sustainability', 'technology']\""
      ]
     },
     "execution_count": 88,
     "metadata": {},
     "output_type": "execute_result"
    }
   ],
   "source": [
    "df['tags'][1]"
   ]
  },
  {
   "cell_type": "code",
   "execution_count": 9,
   "metadata": {},
   "outputs": [
    {
     "data": {
      "text/plain": [
       "0       ['children', 'creativity', 'culture', 'dance',...\n",
       "1       ['alternative energy', 'cars', 'climate change...\n",
       "2       ['computers', 'entertainment', 'interface desi...\n",
       "3       ['MacArthur grant', 'activism', 'business', 'c...\n",
       "4       ['Africa', 'Asia', 'Google', 'demo', 'economic...\n",
       "5       ['business', 'culture', 'entertainment', 'goal...\n",
       "6       ['Christianity', 'God', 'atheism', 'comedy', '...\n",
       "7       ['architecture', 'collaboration', 'culture', '...\n",
       "8       ['God', 'TED Brain Trust', 'atheism', 'brain',...\n",
       "9       ['Christianity', 'God', 'culture', 'happiness'...\n",
       "10      ['activism', 'architecture', 'collaboration', ...\n",
       "11      ['TED Prize', 'art', 'culture', 'entertainment...\n",
       "12      ['TED Prize', 'collaboration', 'disease', 'ebo...\n",
       "13      ['demo', 'design', 'interface design', 'techno...\n",
       "14      ['children', 'design', 'education', 'entrepren...\n",
       "15      ['entertainment', 'music', 'performance', 'vio...\n",
       "16      ['creativity', 'entertainment', 'music', 'perf...\n",
       "17      ['MacArthur grant', 'alternative energy', 'des...\n",
       "18      ['DNA', 'biology', 'creativity', 'design', 'in...\n",
       "19      ['business', 'collaboration', 'culture', 'inve...\n",
       "20      ['business', 'collaboration', 'culture', 'glob...\n",
       "21      ['collaboration', 'comedy', 'community', 'cult...\n",
       "22      ['business', 'communication', 'community', 'cu...\n",
       "23      ['cognitive science', 'culture', 'evolution', ...\n",
       "24      ['culture', 'entertainment', 'gender', 'global...\n",
       "25      ['climate change', 'cosmos', 'culture', 'envir...\n",
       "26      ['astronomy', 'biology', 'cognitive science', ...\n",
       "27      ['business', 'cities', 'culture', 'economics',...\n",
       "28      ['business', 'choice', 'consumerism', 'culture...\n",
       "29      ['TED Brain Trust', 'brain', 'choice', 'cultur...\n",
       "                              ...                        \n",
       "2520    ['AI', 'computers', 'economics', 'future', 'hu...\n",
       "2521    ['biology', 'biomechanics', 'cancer', 'chemist...\n",
       "2522    ['Africa', 'art', 'beauty', 'creativity', 'per...\n",
       "2523    ['TEDx', 'business', 'capitalism', 'community'...\n",
       "2524    ['Africa', 'TED Fellows', 'art', 'creativity',...\n",
       "2525    ['TEDx', 'activism', 'children', 'family', 'po...\n",
       "2526    ['AI', 'education', 'intelligence', 'robots', ...\n",
       "2527    ['TEDx', 'United States', 'activism', 'democra...\n",
       "2528    ['TEDx', 'ancient world', 'archaeology', 'cons...\n",
       "2529    ['TEDx', 'community', 'humanity', 'identity', ...\n",
       "2530    ['architecture', 'art', 'cities', 'creativity'...\n",
       "2531    ['TEDx', 'security', 'social media', 'terroris...\n",
       "2532    ['algorithm', 'business', 'collaboration', 'co...\n",
       "2533    ['TED en Español', 'art', 'creativity', 'desig...\n",
       "2534    ['TEDx', 'art', 'climate change', 'environment...\n",
       "2535    ['Africa', 'activism', 'cities', 'government',...\n",
       "2536    ['TEDx', 'communication', 'friendship', 'polit...\n",
       "2537    ['happiness', 'humanity', 'personal growth', '...\n",
       "2538    ['TEDx', 'business', 'corruption', 'economics'...\n",
       "2539    ['Africa', 'agriculture', 'farming', 'food', '...\n",
       "2540    ['business', 'capitalism', 'collaboration', 'e...\n",
       "2541               ['TEDx', 'physics', 'play', 'science']\n",
       "2542    ['Africa', 'activism', 'art', 'community', 'hi...\n",
       "2543    ['DNA', 'Human body', 'biology', 'data', 'entr...\n",
       "2544    ['Africa', 'agriculture', 'history', 'leadersh...\n",
       "2545    ['TED Residency', 'United States', 'community'...\n",
       "2546    ['Mars', 'South America', 'TED Fellows', 'astr...\n",
       "2547    ['AI', 'ants', 'fish', 'future', 'innovation',...\n",
       "2548    ['Internet', 'TEDx', 'United States', 'communi...\n",
       "2549    ['cities', 'design', 'future', 'infrastructure...\n",
       "Name: tags, Length: 2550, dtype: object"
      ]
     },
     "execution_count": 9,
     "metadata": {},
     "output_type": "execute_result"
    }
   ],
   "source": [
    "data['tags']"
   ]
  },
  {
   "cell_type": "code",
   "execution_count": 12,
   "metadata": {},
   "outputs": [
    {
     "name": "stdout",
     "output_type": "stream",
     "text": [
      "[{'id': 7, 'name': 'Funny', 'count': 19645}, {'id': 1, 'name': 'Beautiful', 'count': 4573}, {'id': 9, 'name': 'Ingenious', 'count': 6073}, {'id': 3, 'name': 'Courageous', 'count': 3253}, {'id': 11, 'name': 'Longwinded', 'count': 387}, {'id': 2, 'name': 'Confusing', 'count': 242}, {'id': 8, 'name': 'Informative', 'count': 7346}, {'id': 22, 'name': 'Fascinating', 'count': 10581}, {'id': 21, 'name': 'Unconvincing', 'count': 300}, {'id': 24, 'name': 'Persuasive', 'count': 10704}, {'id': 23, 'name': 'Jaw-dropping', 'count': 4439}, {'id': 25, 'name': 'OK', 'count': 1174}, {'id': 26, 'name': 'Obnoxious', 'count': 209}, {'id': 10, 'name': 'Inspiring', 'count': 24924}]\n"
     ]
    },
    {
     "ename": "TypeError",
     "evalue": "string indices must be integers",
     "output_type": "error",
     "traceback": [
      "\u001b[1;31m---------------------------------------------------------------------------\u001b[0m",
      "\u001b[1;31mTypeError\u001b[0m                                 Traceback (most recent call last)",
      "\u001b[1;32m<ipython-input-12-24d0a2d5b0ff>\u001b[0m in \u001b[0;36m<module>\u001b[1;34m()\u001b[0m\n\u001b[0;32m      5\u001b[0m     \u001b[0mprint\u001b[0m\u001b[1;33m(\u001b[0m\u001b[0mitem\u001b[0m\u001b[1;33m)\u001b[0m\u001b[1;33m\u001b[0m\u001b[0m\n\u001b[0;32m      6\u001b[0m     \u001b[1;32mfor\u001b[0m \u001b[0mdata_item\u001b[0m \u001b[1;32min\u001b[0m \u001b[0mitem\u001b[0m\u001b[1;33m:\u001b[0m\u001b[1;33m\u001b[0m\u001b[0m\n\u001b[1;32m----> 7\u001b[1;33m         \u001b[0mprint\u001b[0m\u001b[1;33m(\u001b[0m\u001b[0mdata_item\u001b[0m\u001b[1;33m[\u001b[0m\u001b[1;34m'name'\u001b[0m\u001b[1;33m]\u001b[0m\u001b[1;33m)\u001b[0m\u001b[1;33m\u001b[0m\u001b[0m\n\u001b[0m\u001b[0;32m      8\u001b[0m         \u001b[0mprint\u001b[0m \u001b[1;33m(\u001b[0m\u001b[0mdata_item\u001b[0m\u001b[1;33m[\u001b[0m\u001b[1;34m'count'\u001b[0m\u001b[1;33m]\u001b[0m\u001b[1;33m)\u001b[0m\u001b[1;33m\u001b[0m\u001b[0m\n\u001b[0;32m      9\u001b[0m \u001b[1;33m\u001b[0m\u001b[0m\n",
      "\u001b[1;31mTypeError\u001b[0m: string indices must be integers"
     ]
    }
   ],
   "source": [
    "json_data = df['ratings'] # your list with json objects (dicts)\n",
    "\n",
    "\n",
    "for item in json_data:\n",
    "    print(item)\n",
    "    for data_item in item:\n",
    "        print(data_item['name'])\n",
    "        print (data_item['count'])\n",
    "\n",
    "df['ratings'] = df['ratings'].apply(lambda x: ast.literal_eval(x))\n",
    "df['funny'] = df['ratings'].apply(lambda x: x[0]['count'])\n",
    "df['jawdrop'] = df['ratings'].apply(lambda x: x[-3]['count'])\n",
    "df['beautiful'] = df['ratings'].apply(lambda x: x[3]['count'])\n",
    "df['confusing'] = df['ratings'].apply(lambda x: x[2]['count'])\n",
    "print(df['funny'].head())\n",
    "\n",
    "\n",
    "    \n",
    "\n",
    "import datetime\n",
    "df['film_date'] = df['film_date'].apply(lambda x: datetime.datetime.fromtimestamp( int(x)).strftime('%d-%m-%Y'))\n",
    "df['published_date'] = df['published_date'].apply(lambda x: datetime.datetime.fromtimestamp( int(x)).strftime('%d-%m-%Y'))\n",
    "print(df.head())\n",
    "\n",
    "\n",
    "pop_talks = df[['title','main_speaker','views','film_date']].sort_values('views',ascending=False)[:15]\n",
    "print(pop_talks)\n"
   ]
  },
  {
   "cell_type": "code",
   "execution_count": 13,
   "metadata": {},
   "outputs": [
    {
     "data": {
      "text/plain": [
       "0       [{'id': 7, 'name': 'Funny', 'count': 19645}, {...\n",
       "1       [{'id': 7, 'name': 'Funny', 'count': 544}, {'i...\n",
       "2       [{'id': 7, 'name': 'Funny', 'count': 964}, {'i...\n",
       "3       [{'id': 3, 'name': 'Courageous', 'count': 760}...\n",
       "4       [{'id': 9, 'name': 'Ingenious', 'count': 3202}...\n",
       "5       [{'id': 7, 'name': 'Funny', 'count': 1102}, {'...\n",
       "6       [{'id': 3, 'name': 'Courageous', 'count': 477}...\n",
       "7       [{'id': 9, 'name': 'Ingenious', 'count': 195},...\n",
       "8       [{'id': 3, 'name': 'Courageous', 'count': 562}...\n",
       "9       [{'id': 21, 'name': 'Unconvincing', 'count': 8...\n",
       "10      [{'id': 3, 'name': 'Courageous', 'count': 169}...\n",
       "11      [{'id': 1, 'name': 'Beautiful', 'count': 70}, ...\n",
       "12      [{'id': 8, 'name': 'Informative', 'count': 188...\n",
       "13      [{'id': 9, 'name': 'Ingenious', 'count': 1014}...\n",
       "14      [{'id': 3, 'name': 'Courageous', 'count': 83},...\n",
       "15      [{'id': 1, 'name': 'Beautiful', 'count': 1671}...\n",
       "16      [{'id': 1, 'name': 'Beautiful', 'count': 1107}...\n",
       "17      [{'id': 9, 'name': 'Ingenious', 'count': 321},...\n",
       "18      [{'id': 1, 'name': 'Beautiful', 'count': 259},...\n",
       "19      [{'id': 1, 'name': 'Beautiful', 'count': 104},...\n",
       "20      [{'id': 9, 'name': 'Ingenious', 'count': 117},...\n",
       "21      [{'id': 7, 'name': 'Funny', 'count': 2799}, {'...\n",
       "22      [{'id': 8, 'name': 'Informative', 'count': 82}...\n",
       "23      [{'id': 7, 'name': 'Funny', 'count': 780}, {'i...\n",
       "24      [{'id': 3, 'name': 'Courageous', 'count': 654}...\n",
       "25      [{'id': 9, 'name': 'Ingenious', 'count': 269},...\n",
       "26      [{'id': 1, 'name': 'Beautiful', 'count': 333},...\n",
       "27      [{'id': 7, 'name': 'Funny', 'count': 485}, {'i...\n",
       "28      [{'id': 7, 'name': 'Funny', 'count': 1668}, {'...\n",
       "29      [{'id': 7, 'name': 'Funny', 'count': 1728}, {'...\n",
       "                              ...                        \n",
       "2520    [{'id': 23, 'name': 'Jaw-dropping', 'count': 2...\n",
       "2521    [{'id': 8, 'name': 'Informative', 'count': 146...\n",
       "2522    [{'id': 1, 'name': 'Beautiful', 'count': 85}, ...\n",
       "2523    [{'id': 3, 'name': 'Courageous', 'count': 46},...\n",
       "2524    [{'id': 24, 'name': 'Persuasive', 'count': 19}...\n",
       "2525    [{'id': 10, 'name': 'Inspiring', 'count': 119}...\n",
       "2526    [{'id': 22, 'name': 'Fascinating', 'count': 11...\n",
       "2527    [{'id': 3, 'name': 'Courageous', 'count': 63},...\n",
       "2528    [{'id': 9, 'name': 'Ingenious', 'count': 16}, ...\n",
       "2529    [{'id': 9, 'name': 'Ingenious', 'count': 24}, ...\n",
       "2530    [{'id': 2, 'name': 'Confusing', 'count': 2}, {...\n",
       "2531    [{'id': 8, 'name': 'Informative', 'count': 64}...\n",
       "2532    [{'id': 25, 'name': 'OK', 'count': 26}, {'id':...\n",
       "2533    [{'id': 1, 'name': 'Beautiful', 'count': 29}, ...\n",
       "2534    [{'id': 10, 'name': 'Inspiring', 'count': 46},...\n",
       "2535    [{'id': 3, 'name': 'Courageous', 'count': 77},...\n",
       "2536    [{'id': 3, 'name': 'Courageous', 'count': 45},...\n",
       "2537    [{'id': 1, 'name': 'Beautiful', 'count': 484},...\n",
       "2538    [{'id': 10, 'name': 'Inspiring', 'count': 50},...\n",
       "2539    [{'id': 10, 'name': 'Inspiring', 'count': 73},...\n",
       "2540    [{'id': 1, 'name': 'Beautiful', 'count': 15}, ...\n",
       "2541    [{'id': 11, 'name': 'Longwinded', 'count': 29}...\n",
       "2542    [{'id': 1, 'name': 'Beautiful', 'count': 41}, ...\n",
       "2543    [{'id': 1, 'name': 'Beautiful', 'count': 13}, ...\n",
       "2544    [{'id': 1, 'name': 'Beautiful', 'count': 9}, {...\n",
       "2545    [{'id': 3, 'name': 'Courageous', 'count': 24},...\n",
       "2546    [{'id': 22, 'name': 'Fascinating', 'count': 32...\n",
       "2547    [{'id': 1, 'name': 'Beautiful', 'count': 14}, ...\n",
       "2548    [{'id': 11, 'name': 'Longwinded', 'count': 3},...\n",
       "2549    [{'id': 21, 'name': 'Unconvincing', 'count': 2...\n",
       "Name: ratings, Length: 2550, dtype: object"
      ]
     },
     "execution_count": 13,
     "metadata": {},
     "output_type": "execute_result"
    }
   ],
   "source": [
    "df['ratings']"
   ]
  },
  {
   "cell_type": "code",
   "execution_count": 14,
   "metadata": {},
   "outputs": [
    {
     "ename": "ValueError",
     "evalue": "Can only compare identically-labeled Series objects",
     "output_type": "error",
     "traceback": [
      "\u001b[1;31m---------------------------------------------------------------------------\u001b[0m",
      "\u001b[1;31mValueError\u001b[0m                                Traceback (most recent call last)",
      "\u001b[1;32m<ipython-input-14-082b2dc1b1da>\u001b[0m in \u001b[0;36m<module>\u001b[1;34m()\u001b[0m\n\u001b[1;32m----> 1\u001b[1;33m \u001b[0mdf\u001b[0m\u001b[1;33m[\u001b[0m\u001b[0mdf\u001b[0m\u001b[1;33m[\u001b[0m\u001b[1;34m\"url\"\u001b[0m\u001b[1;33m]\u001b[0m \u001b[1;33m!=\u001b[0m \u001b[0mdf1\u001b[0m\u001b[1;33m[\u001b[0m\u001b[1;34m\"url\"\u001b[0m\u001b[1;33m]\u001b[0m\u001b[1;33m]\u001b[0m\u001b[1;33m\u001b[0m\u001b[0m\n\u001b[0m",
      "\u001b[1;32m~\\Anaconda3\\lib\\site-packages\\pandas\\core\\ops.py\u001b[0m in \u001b[0;36mwrapper\u001b[1;34m(self, other, axis)\u001b[0m\n\u001b[0;32m    816\u001b[0m             \u001b[1;32mif\u001b[0m \u001b[1;32mnot\u001b[0m \u001b[0mself\u001b[0m\u001b[1;33m.\u001b[0m\u001b[0m_indexed_same\u001b[0m\u001b[1;33m(\u001b[0m\u001b[0mother\u001b[0m\u001b[1;33m)\u001b[0m\u001b[1;33m:\u001b[0m\u001b[1;33m\u001b[0m\u001b[0m\n\u001b[0;32m    817\u001b[0m                 \u001b[0mmsg\u001b[0m \u001b[1;33m=\u001b[0m \u001b[1;34m'Can only compare identically-labeled Series objects'\u001b[0m\u001b[1;33m\u001b[0m\u001b[0m\n\u001b[1;32m--> 818\u001b[1;33m                 \u001b[1;32mraise\u001b[0m \u001b[0mValueError\u001b[0m\u001b[1;33m(\u001b[0m\u001b[0mmsg\u001b[0m\u001b[1;33m)\u001b[0m\u001b[1;33m\u001b[0m\u001b[0m\n\u001b[0m\u001b[0;32m    819\u001b[0m             return self._constructor(na_op(self.values, other.values),\n\u001b[0;32m    820\u001b[0m                                      index=self.index, name=name)\n",
      "\u001b[1;31mValueError\u001b[0m: Can only compare identically-labeled Series objects"
     ]
    }
   ],
   "source": [
    "df[df[\"url\"] != df1[\"url\"]]"
   ]
  },
  {
   "cell_type": "code",
   "execution_count": 35,
   "metadata": {},
   "outputs": [
    {
     "data": {
      "text/html": [
       "<div>\n",
       "<style>\n",
       "    .dataframe thead tr:only-child th {\n",
       "        text-align: right;\n",
       "    }\n",
       "\n",
       "    .dataframe thead th {\n",
       "        text-align: left;\n",
       "    }\n",
       "\n",
       "    .dataframe tbody tr th {\n",
       "        vertical-align: top;\n",
       "    }\n",
       "</style>\n",
       "<table border=\"1\" class=\"dataframe\">\n",
       "  <thead>\n",
       "    <tr style=\"text-align: right;\">\n",
       "      <th></th>\n",
       "      <th>transcript</th>\n",
       "      <th>url</th>\n",
       "    </tr>\n",
       "  </thead>\n",
       "  <tbody>\n",
       "  </tbody>\n",
       "</table>\n",
       "</div>"
      ],
      "text/plain": [
       "Empty DataFrame\n",
       "Columns: [transcript, url]\n",
       "Index: []"
      ]
     },
     "execution_count": 35,
     "metadata": {},
     "output_type": "execute_result"
    }
   ],
   "source": [
    "#df[df[\"url\"].isnull() == True]\n",
    "df1[df1['url'].isnull()]"
   ]
  },
  {
   "cell_type": "code",
   "execution_count": 17,
   "metadata": {},
   "outputs": [
    {
     "name": "stdout",
     "output_type": "stream",
     "text": [
      "0    https://www.ted.com/talks/ken_robinson_says_sc...\n",
      "1    https://www.ted.com/talks/al_gore_on_averting_...\n",
      "2    https://www.ted.com/talks/david_pogue_says_sim...\n",
      "3    https://www.ted.com/talks/majora_carter_s_tale...\n",
      "4    https://www.ted.com/talks/hans_rosling_shows_t...\n",
      "Name: url, dtype: object\n"
     ]
    }
   ],
   "source": [
    "print(df1['url'].head())"
   ]
  },
  {
   "cell_type": "code",
   "execution_count": 45,
   "metadata": {},
   "outputs": [
    {
     "data": {
      "text/plain": [
       "(2550, 17)"
      ]
     },
     "execution_count": 45,
     "metadata": {},
     "output_type": "execute_result"
    }
   ],
   "source": [
    "df.shape"
   ]
  },
  {
   "cell_type": "code",
   "execution_count": null,
   "metadata": {
    "collapsed": true
   },
   "outputs": [],
   "source": []
  }
 ],
 "metadata": {
  "kernelspec": {
   "display_name": "Python 3",
   "language": "python",
   "name": "python3"
  },
  "language_info": {
   "codemirror_mode": {
    "name": "ipython",
    "version": 3
   },
   "file_extension": ".py",
   "mimetype": "text/x-python",
   "name": "python",
   "nbconvert_exporter": "python",
   "pygments_lexer": "ipython3",
   "version": "3.6.3"
  }
 },
 "nbformat": 4,
 "nbformat_minor": 2
}
